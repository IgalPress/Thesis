{
 "cells": [
  {
   "cell_type": "markdown",
   "id": "b6233fe9-0821-41af-9f22-56b860d22e96",
   "metadata": {},
   "source": [
    "### How to push to github\n",
    "##### Write the following in the git terminal:\n",
    "##### git add *\n",
    "##### git commit -m \"Write the changes in the file that were done here\"\n",
    "##### git push"
   ]
  },
  {
   "cell_type": "code",
   "execution_count": 4,
   "id": "53c7fc88-4b9a-4349-8716-7913ce1eff79",
   "metadata": {},
   "outputs": [],
   "source": [
    "import numpy as np\n",
    "import matplotlib.pyplot as plt\n",
    "from scipy.integrate import solve_ivp\n",
    "from scipy.special import kn\n",
    "from scipy.integrate import quad\n",
    "import csv"
   ]
  },
  {
   "cell_type": "code",
   "execution_count": 5,
   "id": "50984199-3241-48d9-8781-537a8df37433",
   "metadata": {},
   "outputs": [
    {
     "data": {
      "text/plain": [
       "\"\\nwith open('Gstar.csv', 'r') as f:\\n    Gstarreader = csv.reader(f)\\n    Gstardata = {float(row[0]): float(row[1]) for row in Gstarreader}\\n\\nwith open('GstarS.csv', 'r') as f:\\n    GstarSreader = csv.reader(f)\\n    GstarSdata = {float(row[0]): float(row[1]) for row in GstarSreader}\\n\""
      ]
     },
     "execution_count": 5,
     "metadata": {},
     "output_type": "execute_result"
    }
   ],
   "source": [
    "\"\"\"\n",
    "with open('Gstar.csv', 'r') as f:\n",
    "    Gstarreader = csv.reader(f)\n",
    "    Gstardata = {float(row[0]): float(row[1]) for row in Gstarreader}\n",
    "\n",
    "with open('GstarS.csv', 'r') as f:\n",
    "    GstarSreader = csv.reader(f)\n",
    "    GstarSdata = {float(row[0]): float(row[1]) for row in GstarSreader}\n",
    "\"\"\""
   ]
  },
  {
   "cell_type": "code",
   "execution_count": 68,
   "id": "7d2e7ef9-facd-451a-8a53-26dd3c43e3b3",
   "metadata": {
    "scrolled": true
   },
   "outputs": [
    {
     "name": "stderr",
     "output_type": "stream",
     "text": [
      "<>:32: SyntaxWarning: invalid escape sequence '\\s'\n",
      "<>:32: SyntaxWarning: invalid escape sequence '\\s'\n",
      "C:\\Users\\press\\AppData\\Local\\Temp\\ipykernel_16092\\2384608583.py:32: SyntaxWarning: invalid escape sequence '\\s'\n",
      "  plt.title('Log plot of Y(x) for different $\\sigma$ values')\n",
      "C:\\Users\\press\\AppData\\Local\\Temp\\ipykernel_16092\\3112628040.py:16: RuntimeWarning: divide by zero encountered in scalar divide\n",
      "  return (1 / (8 * m**4 * T * kn(2, m / T))) * integral_result\n",
      "C:\\Users\\press\\AppData\\Local\\Temp\\ipykernel_16092\\3112628040.py:16: RuntimeWarning: invalid value encountered in scalar multiply\n",
      "  return (1 / (8 * m**4 * T * kn(2, m / T))) * integral_result\n"
     ]
    },
    {
     "name": "stdout",
     "output_type": "stream",
     "text": [
      "TestMeson\n",
      "Frozen-out Y(x) for TestMeson = 9.119001987011913e-06\n",
      "Cross section of TestMeson = 1e-10\n"
     ]
    },
    {
     "data": {
      "image/png": "[encoded data removed]",
      "text/plain": [
       "<Figure size 640x480 with 1 Axes>"
      ]
     },
     "metadata": {},
     "output_type": "display_data"
    }
   ],
   "source": [
    "%run FreezeOutFunctions.ipynb\n",
    "%run CrossSectionFunctions.ipynb\n",
    "\n",
    "Y0 = [0]  \n",
    "x_min = 0.01 \n",
    "x_max = 100 \n",
    "x_span = (x_min, x_max)\n",
    "x_eval = np.linspace(x_min, x_max, 500000)\n",
    "\n",
    "# THE STRING ENCLOSED WITHIN THE \"\" IS TELLING THE CODE WHAT RATIO TO USE REGARDLESS OF WHAT VARIABLE YOU PASS THROUGH NEXT\n",
    "sigma_values = {\n",
    "    \"TestMeson\": Sigma_Meson,\n",
    "    #\"TestBaryon\": Sigma_Baryon\n",
    "}\n",
    "\n",
    "for particle, sigma_value in sigma_values.items():\n",
    "    sol = solve_ivp(lambda x, Y: dYdx(x, Y, sigma_value, particle), x_span, Y0, t_eval=x_eval)\n",
    "    print(particle)\n",
    "    \n",
    "    # Number of frozen-out DM particles\n",
    "    Y_frozen = sol.y[0, -1]\n",
    "    print(f'Frozen-out Y(x) for {particle} = {Y_frozen}')\n",
    "    print(f'Cross section of {particle} = {sigma_value}')\n",
    "    \n",
    "    plt.plot(sol.t, sol.y[0], label=f'{particle}')\n",
    "    \n",
    "# Plot configurations\n",
    "plt.yscale('log')  \n",
    "#plt.xscale('log')  \n",
    "plt.xlabel('x = m/T')\n",
    "plt.ylabel('log(Y/Y(x=0))')\n",
    "plt.title('Log plot of Y(x) for different $\\sigma$ values')\n",
    "plt.legend()\n",
    "plt.grid(True)\n",
    "#plt.savefig('DifferentSigmaSValues.png', facecolor='w')\n",
    "\n",
    "plt.show()"
   ]
  },
  {
   "cell_type": "code",
   "execution_count": 20,
   "id": "07e90782-f791-47fc-89be-0519e2ced8c5",
   "metadata": {},
   "outputs": [
    {
     "data": {
      "text/plain": [
       "\"\\nsigma_values = [Sigma_SC_NeutralPion, Sigma_SC_NeutralKaon]\\n\\nfor sigma_value in sigma_values:\\n    sigma_name = get_variable_name(sigma_value, globals())\\n    sol = solve_ivp(lambda x, Y: dYdx(x, Y, sigma_value), x_span, Y0, t_eval=x_eval)\\n        \\n    # Number of frozen-out dm particles\\n    Y_frozen = sol.y[0, -1]\\n    print(f'Frozen-out Y(x) for {sigma_name} = {sigma_value}: {Y_frozen}')\\n    \\n    plt.plot(sol.t, sol.y[0], label=f'{sigma_name} = {sigma_value}')\\n\""
      ]
     },
     "execution_count": 20,
     "metadata": {},
     "output_type": "execute_result"
    }
   ],
   "source": [
    "\"\"\"\n",
    "sigma_values = [Sigma_SC_NeutralPion, Sigma_SC_NeutralKaon]\n",
    "\n",
    "for sigma_value in sigma_values:\n",
    "    sigma_name = get_variable_name(sigma_value, globals())\n",
    "    sol = solve_ivp(lambda x, Y: dYdx(x, Y, sigma_value), x_span, Y0, t_eval=x_eval)\n",
    "        \n",
    "    # Number of frozen-out dm particles\n",
    "    Y_frozen = sol.y[0, -1]\n",
    "    print(f'Frozen-out Y(x) for {sigma_name} = {sigma_value}: {Y_frozen}')\n",
    "    \n",
    "    plt.plot(sol.t, sol.y[0], label=f'{sigma_name} = {sigma_value}')\n",
    "\"\"\""
   ]
  },
  {
   "cell_type": "code",
   "execution_count": 55,
   "id": "72091f5e-d9cd-4cbb-89fb-b1b58ba40222",
   "metadata": {},
   "outputs": [
    {
     "ename": "NameError",
     "evalue": "name 'Y' is not defined",
     "output_type": "error",
     "traceback": [
      "\u001b[1;31m---------------------------------------------------------------------------\u001b[0m",
      "\u001b[1;31mNameError\u001b[0m                                 Traceback (most recent call last)",
      "Cell \u001b[1;32mIn[55], line 4\u001b[0m\n\u001b[0;32m      1\u001b[0m \u001b[38;5;28;01mfrom\u001b[39;00m \u001b[38;5;21;01mscipy\u001b[39;00m\u001b[38;5;21;01m.\u001b[39;00m\u001b[38;5;21;01mintegrate\u001b[39;00m \u001b[38;5;28;01mimport\u001b[39;00m odeint\n\u001b[0;32m      3\u001b[0m \u001b[38;5;28;01mfor\u001b[39;00m x \u001b[38;5;129;01min\u001b[39;00m x_eval:\n\u001b[1;32m----> 4\u001b[0m     y \u001b[38;5;241m=\u001b[39m odeint(dYdx(x,Y,sigma_value,particle),Y0,x_eval)\n",
      "\u001b[1;31mNameError\u001b[0m: name 'Y' is not defined"
     ]
    }
   ],
   "source": [
    "from scipy.integrate import odeint\n",
    "\n",
    "for x in x_eval:\n",
    "    y = odeint(dYdx(x,Y,sigma_value,particle),Y0,x_eval)"
   ]
  },
  {
   "cell_type": "code",
   "execution_count": 82,
   "id": "8ea09c05-3504-4644-908f-ffb9707662dc",
   "metadata": {},
   "outputs": [
    {
     "ename": "RuntimeError",
     "evalue": "The array return by func must be one-dimensional, but got ndim=2.",
     "output_type": "error",
     "traceback": [
      "\u001b[1;31m---------------------------------------------------------------------------\u001b[0m",
      "\u001b[1;31mRuntimeError\u001b[0m                              Traceback (most recent call last)",
      "Cell \u001b[1;32mIn[82], line 2\u001b[0m\n\u001b[0;32m      1\u001b[0m Y0 \u001b[38;5;241m=\u001b[39m np\u001b[38;5;241m.\u001b[39marray([\u001b[38;5;241m1.0\u001b[39m])\n\u001b[1;32m----> 2\u001b[0m Y \u001b[38;5;241m=\u001b[39m odeint(dYdx, Y0, x_eval, args\u001b[38;5;241m=\u001b[39m(sigma_value, particle))\n\u001b[0;32m      3\u001b[0m Y \u001b[38;5;241m=\u001b[39m Y[:, \u001b[38;5;241m0\u001b[39m]\n",
      "File \u001b[1;32m~\\anaconda3\\Lib\\site-packages\\scipy\\integrate\\_odepack_py.py:243\u001b[0m, in \u001b[0;36modeint\u001b[1;34m(func, y0, t, args, Dfun, col_deriv, full_output, ml, mu, rtol, atol, tcrit, h0, hmax, hmin, ixpr, mxstep, mxhnil, mxordn, mxords, printmessg, tfirst)\u001b[0m\n\u001b[0;32m    241\u001b[0m t \u001b[38;5;241m=\u001b[39m copy(t)\n\u001b[0;32m    242\u001b[0m y0 \u001b[38;5;241m=\u001b[39m copy(y0)\n\u001b[1;32m--> 243\u001b[0m output \u001b[38;5;241m=\u001b[39m _odepack\u001b[38;5;241m.\u001b[39modeint(func, y0, t, args, Dfun, col_deriv, ml, mu,\n\u001b[0;32m    244\u001b[0m                          full_output, rtol, atol, tcrit, h0, hmax, hmin,\n\u001b[0;32m    245\u001b[0m                          ixpr, mxstep, mxhnil, mxordn, mxords,\n\u001b[0;32m    246\u001b[0m                          \u001b[38;5;28mint\u001b[39m(\u001b[38;5;28mbool\u001b[39m(tfirst)))\n\u001b[0;32m    247\u001b[0m \u001b[38;5;28;01mif\u001b[39;00m output[\u001b[38;5;241m-\u001b[39m\u001b[38;5;241m1\u001b[39m] \u001b[38;5;241m<\u001b[39m \u001b[38;5;241m0\u001b[39m:\n\u001b[0;32m    248\u001b[0m     warning_msg \u001b[38;5;241m=\u001b[39m (\u001b[38;5;124mf\u001b[39m\u001b[38;5;124m\"\u001b[39m\u001b[38;5;132;01m{\u001b[39;00m_msgs[output[\u001b[38;5;241m-\u001b[39m\u001b[38;5;241m1\u001b[39m]]\u001b[38;5;132;01m}\u001b[39;00m\u001b[38;5;124m Run with full_output = 1 to \u001b[39m\u001b[38;5;124m\"\u001b[39m\n\u001b[0;32m    249\u001b[0m                    \u001b[38;5;124mf\u001b[39m\u001b[38;5;124m\"\u001b[39m\u001b[38;5;124mget quantitative information.\u001b[39m\u001b[38;5;124m\"\u001b[39m)\n",
      "\u001b[1;31mRuntimeError\u001b[0m: The array return by func must be one-dimensional, but got ndim=2."
     ]
    }
   ],
   "source": [
    "Y0 = np.array([1.0])\n",
    "Y = odeint(dYdx, Y0, x_eval, args=(sigma_value, particle))\n",
    "Y = Y[:, 0]\n"
   ]
  },
  {
   "cell_type": "code",
   "execution_count": 88,
   "id": "e8467be9-f45f-4af1-8322-50621bbe17b1",
   "metadata": {},
   "outputs": [
    {
     "data": {
      "text/plain": [
       "[<matplotlib.lines.Line2D at 0x2066136d850>]"
      ]
     },
     "execution_count": 88,
     "metadata": {},
     "output_type": "execute_result"
    },
    {
     "data": {
      "image/png": "[encoded data removed]",
      "text/plain": [
       "<Figure size 640x480 with 1 Axes>"
      ]
     },
     "metadata": {},
     "output_type": "display_data"
    }
   ],
   "source": [
    "# function that returns dy/dt\n",
    "def model(y,t):\n",
    "    k = 0.3\n",
    "    dydt = -k * y\n",
    "    return dydt\n",
    "\n",
    "# initial condition\n",
    "y0 = 5\n",
    "\n",
    "# time points\n",
    "t = np.linspace(0,20)\n",
    "\n",
    "# solve ODE\n",
    "y = odeint(model,y0,t)\n",
    "\n",
    "plt.plot(t,y)"
   ]
  },
  {
   "cell_type": "code",
   "execution_count": null,
   "id": "2e045c9e-a201-4ccd-b624-adc5a7d3d543",
   "metadata": {},
   "outputs": [],
   "source": []
  }
 ],
 "metadata": {
  "kernelspec": {
   "display_name": "Python [conda env:base] *",
   "language": "python",
   "name": "conda-base-py"
  },
  "language_info": {
   "codemirror_mode": {
    "name": "ipython",
    "version": 3
   },
   "file_extension": ".py",
   "mimetype": "text/x-python",
   "name": "python",
   "nbconvert_exporter": "python",
   "pygments_lexer": "ipython3",
   "version": "3.12.7"
  },
  "panel-cell-order": [
   "f82acc07-fb88-4dfe-8dd7-9357be9b0a09",
   "3c549cf8-477c-40cd-82f6-1896e486cb1a"
  ]
 },
 "nbformat": 4,
 "nbformat_minor": 5
}
