{
 "cells": [
  {
   "cell_type": "markdown",
   "id": "b6233fe9-0821-41af-9f22-56b860d22e96",
   "metadata": {},
   "source": [
    "### How to push to github\n",
    "##### Write the following in the git terminal:\n",
    "##### git add *\n",
    "##### git commit -m \"Write the changes in the file that were done here\"\n",
    "##### git push"
   ]
  },
  {
   "cell_type": "code",
   "execution_count": 30,
   "id": "53c7fc88-4b9a-4349-8716-7913ce1eff79",
   "metadata": {},
   "outputs": [],
   "source": [
    "import numpy as np\n",
    "import matplotlib.pyplot as plt\n",
    "from scipy.integrate import solve_ivp\n",
    "from scipy.special import kn\n",
    "from scipy.integrate import quad\n",
    "import csv"
   ]
  },
  {
   "cell_type": "code",
   "execution_count": 32,
   "id": "50984199-3241-48d9-8781-537a8df37433",
   "metadata": {},
   "outputs": [
    {
     "data": {
      "text/plain": [
       "\"\\nwith open('Gstar.csv', 'r') as f:\\n    Gstarreader = csv.reader(f)\\n    Gstardata = {float(row[0]): float(row[1]) for row in Gstarreader}\\n\\nwith open('GstarS.csv', 'r') as f:\\n    GstarSreader = csv.reader(f)\\n    GstarSdata = {float(row[0]): float(row[1]) for row in GstarSreader}\\n\""
      ]
     },
     "execution_count": 32,
     "metadata": {},
     "output_type": "execute_result"
    }
   ],
   "source": [
    "\"\"\"\n",
    "with open('Gstar.csv', 'r') as f:\n",
    "    Gstarreader = csv.reader(f)\n",
    "    Gstardata = {float(row[0]): float(row[1]) for row in Gstarreader}\n",
    "\n",
    "with open('GstarS.csv', 'r') as f:\n",
    "    GstarSreader = csv.reader(f)\n",
    "    GstarSdata = {float(row[0]): float(row[1]) for row in GstarSreader}\n",
    "\"\"\""
   ]
  },
  {
   "cell_type": "code",
   "execution_count": 123,
   "id": "7d2e7ef9-facd-451a-8a53-26dd3c43e3b3",
   "metadata": {},
   "outputs": [
    {
     "name": "stderr",
     "output_type": "stream",
     "text": [
      "<>:32: SyntaxWarning: invalid escape sequence '\\s'\n",
      "<>:32: SyntaxWarning: invalid escape sequence '\\s'\n",
      "C:\\Users\\press\\AppData\\Local\\Temp\\ipykernel_5964\\3408635868.py:32: SyntaxWarning: invalid escape sequence '\\s'\n",
      "  plt.title('Log plot of Y(x) for different $\\sigma$ values')\n",
      "C:\\Users\\press\\AppData\\Local\\Temp\\ipykernel_5964\\806872881.py:15: IntegrationWarning: The integral is probably divergent, or slowly convergent.\n",
      "  integral_result, error = quad(integrand, 4 * m**2, np.inf)\n",
      "C:\\Users\\press\\AppData\\Local\\Temp\\ipykernel_5964\\806872881.py:16: RuntimeWarning: divide by zero encountered in scalar divide\n",
      "  return (1 / (8 * m**4 * T * kn(2, m / T))) * integral_result\n",
      "C:\\Users\\press\\AppData\\Local\\Temp\\ipykernel_5964\\806872881.py:16: RuntimeWarning: invalid value encountered in scalar multiply\n",
      "  return (1 / (8 * m**4 * T * kn(2, m / T))) * integral_result\n"
     ]
    },
    {
     "name": "stdout",
     "output_type": "stream",
     "text": [
      "TestMeson\n",
      "Frozen-out Y(x) for TestMeson = 304.7175915708662\n",
      "Cross section of TestMeson = 1e-10\n"
     ]
    },
    {
     "data": {
      "image/png": "[encoded data removed]",
      "text/plain": [
       "<Figure size 640x480 with 1 Axes>"
      ]
     },
     "metadata": {},
     "output_type": "display_data"
    }
   ],
   "source": [
    "%run FreezeOutFunctions.ipynb\n",
    "%run CrossSectionFunctions.ipynb\n",
    "\n",
    "Y0 = [1e5]  \n",
    "x_min = 1e-5 \n",
    "x_max = 100\n",
    "x_span = (x_min, x_max)\n",
    "x_eval = np.geomspace(x_min, x_max, 5000)\n",
    "\n",
    "# THE STRING ENCLOSED WITHIN THE \"\" IS TELLING THE CODE WHAT RATIO TO USE REGARDLESS OF WHAT VARIABLE YOU PASS THROUGH NEXT\n",
    "sigma_values = {\n",
    "    \"TestMeson\": Sigma_Meson,\n",
    "    #\"TestMesonfdsa\": Sigma_Meson,\n",
    "}\n",
    "\n",
    "for particle, sigma_value in sigma_values.items():\n",
    "    sol = solve_ivp(lambda x, Y: dYdx(x, Y, sigma_value, particle), x_span, Y0, t_eval=x_eval)\n",
    "    print(particle)\n",
    "    \n",
    "    # Number of frozen-out DM particles\n",
    "    Y_frozen = sol.y[0, -1]\n",
    "    print(f'Frozen-out Y(x) for {particle} = {Y_frozen}')\n",
    "    print(f'Cross section of {particle} = {sigma_value}')\n",
    "    \n",
    "    plt.plot(sol.t, sol.y[0], label=f'{particle}')\n",
    "    \n",
    "# Plot configurations\n",
    "plt.yscale('log')  \n",
    "plt.xscale('log')  \n",
    "plt.xlabel('log(x = m/T)')\n",
    "plt.ylabel('log(Y/Y(x=0))')\n",
    "plt.title('Log plot of Y(x) for different $\\sigma$ values')\n",
    "plt.legend()\n",
    "plt.grid(True)\n",
    "#plt.savefig('DifferentSigmaSValues.png', facecolor='w')\n",
    "\n",
    "plt.show()"
   ]
  },
  {
   "cell_type": "code",
   "execution_count": null,
   "id": "07e90782-f791-47fc-89be-0519e2ced8c5",
   "metadata": {},
   "outputs": [],
   "source": [
    "\"\"\"\n",
    "sigma_values = [Sigma_SC_NeutralPion, Sigma_SC_NeutralKaon]\n",
    "\n",
    "for sigma_value in sigma_values:\n",
    "    sigma_name = get_variable_name(sigma_value, globals())\n",
    "    sol = solve_ivp(lambda x, Y: dYdx(x, Y, sigma_value), x_span, Y0, t_eval=x_eval)\n",
    "        \n",
    "    # Number of frozen-out dm particles\n",
    "    Y_frozen = sol.y[0, -1]\n",
    "    print(f'Frozen-out Y(x) for {sigma_name} = {sigma_value}: {Y_frozen}')\n",
    "    \n",
    "    plt.plot(sol.t, sol.y[0], label=f'{sigma_name} = {sigma_value}')\n",
    "\"\"\"\n",
    "print(Test_meson)"
   ]
  },
  {
   "cell_type": "code",
   "execution_count": null,
   "id": "b17202b7-de88-48cc-80e0-3f1861c10385",
   "metadata": {},
   "outputs": [],
   "source": [
    "%run CrossSectionFunctions.ipynb\n",
    "\n",
    "arr = []\n",
    "arr2 = []\n",
    "arr3 = []\n",
    "\n",
    "\n",
    "for x in x_eval:\n",
    "    y = Y_EQ(x, 'TestMeson')\n",
    "    arr.append(y)\n",
    "\n",
    "\n",
    "for x in x_eval:\n",
    "    z = Y_EQ_GT3(x, 'TestMeson')\n",
    "    arr2.append(z)\n",
    "\n",
    "for x in x_eval:\n",
    "    w = Y_EQ_LT3(x, 'TestMeson')\n",
    "    arr3.append(w)\n",
    "\n",
    "\n",
    "plt.xscale('log')\n",
    "plt.plot(x_eval, arr, label = 'Y_EQ = $n_{eq}/s$')\n",
    "plt.plot(x_eval, arr2, label = 'Y_EQ = $0.145(g/g_{* S}(T))x^{3/2}e^{-x}$, x > 3')\n",
    "plt.plot(x_eval,arr3, label = 'Y_EQ = $0.278(g/g_{*S}(T))$, x < 3')\n",
    "plt.ylabel('$Y_{eq} = n_{eq}$ / s')\n",
    "plt.xlabel('x = m/T')\n",
    "plt.yscale('log')\n",
    "plt.legend()\n",
    "plt.title('Y_eq vs x for different Y_eq formulas')"
   ]
  },
  {
   "cell_type": "code",
   "execution_count": null,
   "id": "9dc02c3a-b183-4cf0-a0cd-bdcf3132c787",
   "metadata": {},
   "outputs": [],
   "source": []
  }
 ],
 "metadata": {
  "kernelspec": {
   "display_name": "Python [conda env:base] *",
   "language": "python",
   "name": "conda-base-py"
  },
  "language_info": {
   "codemirror_mode": {
    "name": "ipython",
    "version": 3
   },
   "file_extension": ".py",
   "mimetype": "text/x-python",
   "name": "python",
   "nbconvert_exporter": "python",
   "pygments_lexer": "ipython3",
   "version": "3.12.7"
  },
  "panel-cell-order": [
   "f82acc07-fb88-4dfe-8dd7-9357be9b0a09",
   "3c549cf8-477c-40cd-82f6-1896e486cb1a"
  ]
 },
 "nbformat": 4,
 "nbformat_minor": 5
}
