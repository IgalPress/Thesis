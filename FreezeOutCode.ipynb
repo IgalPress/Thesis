{
 "cells": [
  {
   "cell_type": "markdown",
   "id": "b6233fe9-0821-41af-9f22-56b860d22e96",
   "metadata": {},
   "source": [
    "### How to push to github\n",
    "##### Write the following in the git terminal:\n",
    "##### git add *\n",
    "##### git commit -m \"Write the changes in the file that were done here\"\n",
    "##### git push"
   ]
  },
  {
   "cell_type": "code",
   "execution_count": 2,
   "id": "53c7fc88-4b9a-4349-8716-7913ce1eff79",
   "metadata": {},
   "outputs": [],
   "source": [
    "import numpy as np\n",
    "import matplotlib.pyplot as plt\n",
    "from scipy.integrate import solve_ivp\n",
    "from scipy.special import kn\n",
    "from scipy.integrate import quad\n",
    "import csv"
   ]
  },
  {
   "cell_type": "code",
   "execution_count": 5,
   "id": "50984199-3241-48d9-8781-537a8df37433",
   "metadata": {},
   "outputs": [],
   "source": [
    "with open('Gstar.csv', 'r') as f:\n",
    "    Gstarreader = csv.reader(f)\n",
    "    Gstardata = {float(row[0]): float(row[1]) for row in Gstarreader}\n",
    "\n",
    "with open('GstarS.csv', 'r') as f:\n",
    "    GstarSreader = csv.reader(f)\n",
    "    GstarSdata = {float(row[0]): float(row[1]) for row in GstarSreader}"
   ]
  },
  {
   "cell_type": "code",
   "execution_count": 7,
   "id": "10732506-bb9b-470a-adb6-d4e4192d070a",
   "metadata": {},
   "outputs": [],
   "source": [
    "# CONSTANTS\n",
    "n = 1          \n",
    "g = 2.0        # Degrees of freedom\n",
    "c1 = np.sqrt(4*np.pi**3/45)\n",
    "c2 = 2*np.pi**2/45\n",
    "#T = 80\n",
    "\n",
    "# COUPLING CONSTANTS\n",
    "k_SV, k_SC = 1e-6, 1e-7 #Talk to Evan and change these numbers\n",
    "Lambda = 1\n",
    "\n",
    "# PARTICLE VELOCITIES\n",
    "V_Pion = 1e3 #m/s If the pion is moving at ~1000m/s it has a similar cross-section to the rest\n",
    "V_Kaon = 1e2\n",
    "V_Baryon = 1e2\n",
    "\n",
    "# Particle masses in MeV\n",
    "m = 0.511      # Electron mass in MeV\n",
    "M_Pl = 1.0  # Planck constant in MeV\n",
    "M_Proton, M_Neutron, M_Lambda = 938.2720813, 939.57, 1115.683\n",
    "M_ChargedPion, M_NeutralPion = 139.57039, 134.9768\n",
    "M_ChargedKaon, M_NeutralKaon = 493.677, 497.611"
   ]
  },
  {
   "cell_type": "code",
   "execution_count": 9,
   "id": "af1bce51-4a1b-4328-b9e3-888815713f83",
   "metadata": {},
   "outputs": [],
   "source": [
    "def g_star(Temp):\n",
    "    # Find closest temperature value in Gstardata\n",
    "    closest_temp = min(Gstardata.keys(), key=lambda t: abs(t - Temp))\n",
    "    return Gstardata[closest_temp]\n",
    "\n",
    "\n",
    "def g_starS(Temp):\n",
    "    # Find closest temperature value in GstarSdata\n",
    "    closest_temp = min(GstarSdata.keys(), key=lambda t: abs(t - Temp))\n",
    "    return GstarSdata[closest_temp]"
   ]
  },
  {
   "cell_type": "code",
   "execution_count": 11,
   "id": "e5e957a3-040d-4386-a7b3-0191c92b4ede",
   "metadata": {},
   "outputs": [],
   "source": [
    "def Y_EQ(x):\n",
    "    return 0.145 * (g / g_starS(m / x)) * x**(3/2) * np.exp(-x) #eqn 5.25\n",
    "\n",
    "# Define H(m) function (Hubble parameter)\n",
    "def H_m(x):\n",
    "    return (c1 * np.sqrt(g_star(m / x)) * (m / x)**2) / M_Pl\n",
    "\n",
    "# Define s(x, m) function (entropy density)\n",
    "def s(x, m):\n",
    "    return c2 * g_star(m / x) * (m / x)**3\n",
    "\n",
    "#change s to be the mandelstam S = (p1 + p2)^2 = (p3 + p4)^2\n",
    "def MandelstamS(m1,m2,v1,v2):\n",
    "    P_1 = 0.5*m1*(v1**2)\n",
    "    P_2= 0.5*m2*(v2**2)\n",
    "    return (P_1+P_2)**2"
   ]
  },
  {
   "cell_type": "code",
   "execution_count": 13,
   "id": "0df48369-4989-40ba-a613-449d5bec9e51",
   "metadata": {},
   "outputs": [],
   "source": [
    "def Energy(Velocity, Mass): #E = sqrt(m^2 + p^2)\n",
    "    P = 0.5*Mass*(Velocity**2)\n",
    "    return np.sqrt(Mass**2 + P**2) #energy will change with the temperature. the cross section is (1/2s)(amplitude)\n",
    "    \n",
    "def sigma(s_minus_4m2, sigma_value):\n",
    "    return sigma_value  # Replace this with your actual cross-section function\n",
    "\n",
    "def thermally_averaged_cross_section(T, m, sigma_value):\n",
    "    def integrand(s):\n",
    "        return sigma(s - 4 * m**2, sigma_value) * np.sqrt(s) * kn(1, np.sqrt(s) / T)\n",
    "    \n",
    "    integral_result, error = quad(integrand, 4 * m**2, np.inf)\n",
    "    return (1 / (8 * m**4 * T * kn(2, m / T))) * integral_result\n",
    "\n",
    "def lambda_x(x, m, g_s, g_star, sigma_value):\n",
    "    H_m_value = H_m(x)\n",
    "    T = m/x\n",
    "    thermally_avg_sigma = thermally_averaged_cross_section(T, m, sigma_value)\n",
    "    \n",
    "    return (x * thermally_avg_sigma * s_value) / H_m_value\n",
    "\n",
    "def dYdx(x, Y, sigma_value):\n",
    "    Y_eq = Y_EQ(x)\n",
    "    lambda_val = lambda_x(x, m, g_starS, g_star, sigma_value)\n",
    "    \n",
    "    if x > 100:  # Arbitrary cutoff for equilibrium; modify as needed\n",
    "        return np.array([0])\n",
    "    \n",
    "    result = -lambda_val * x**(-n-2) * (Y**2 - Y_eq**2)\n",
    "    return np.array([result])\n",
    "\n",
    "def get_variable_name(var, global_vars):\n",
    "    names = [name for name, value in global_vars.items() if value is var]\n",
    "    return names[0] if names else \"unknown\""
   ]
  },
  {
   "cell_type": "markdown",
   "id": "3c549cf8-477c-40cd-82f6-1896e486cb1a",
   "metadata": {
    "panel-layout": {
     "height": 267.484375,
     "visible": true,
     "width": 100
    }
   },
   "source": [
    "#### sigma = k^2/mp^2 where k is the coupling constant and mp is the mass of the mediating particle.\n",
    "#### Take Mass of the particles to be equal to SM particles as of now.\n",
    "#### sigma = sum_i^N sigma_i where N is the number of ways the particle can annihilate."
   ]
  },
  {
   "cell_type": "markdown",
   "id": "9f4ba360-70bd-4b62-9d10-0141b5eb9807",
   "metadata": {},
   "source": [
    "#### ASSUMING THAT COUPLING CONSTANT OF STRANGENESS VIOLATING WEAK INTERACTIONS ARE 10^-6, STRANGENESS CONSERVING ARE 10^-7\n",
    "### NAMING CONVENTION:\n",
    "##### SV = Strangeness Violating, SC = Strangeness Conserving\n",
    "##### Sigma_{Strangeness Conserving/Violating} _ {Particle Mediator} = (k_{Strangeness Conserving/Violating}/M_{Mediator Particle})**2"
   ]
  },
  {
   "cell_type": "code",
   "execution_count": 17,
   "id": "853363b2-b436-4839-9b37-0cc3c5b0bd3d",
   "metadata": {},
   "outputs": [],
   "source": [
    "# PARTICLE ENERGIES\n",
    "E_Pion = Energy(V_Pion, M_NeutralPion)\n",
    "E_Kaon = Energy(V_Kaon, M_NeutralKaon)\n",
    "\n",
    "# STRANGENESS VIOLATING CROSS-SECTIONS\n",
    "Sigma_SV_Neutron = (k_SV/M_Neutron)**2\n",
    "Sigma_SV_Proton = (k_SV/M_Proton)**2\n",
    "Sigma_SV_Lambda = (k_SV/M_Lambda)**2\n",
    "Sigma_SV_ChargedKaon = (k_SV/M_ChargedKaon)**2\n",
    "Sigma_SV_ChargedPion = (k_SV/M_ChargedPion)**2\n",
    "Sigma_SV_NeutralKaon = (k_SV/M_NeutralKaon)**2\n",
    "Sigma_SV_NeutralPion = (k_SV/M_NeutralPion)**2\n",
    "\n",
    "# STRANGENESS CONSERVING CROSS-SECTIONS\n",
    "Sigma_SC_Neutron = (k_SC/M_Neutron)**2\n",
    "Sigma_SC_Proton = (k_SC/M_Proton)**2\n",
    "Sigma_SC_Lambda = (k_SC/M_Lambda)**2\n",
    "Sigma_SC_ChargedKaon = (k_SC/M_ChargedKaon)**2\n",
    "Sigma_SC_ChargedPion = (k_SC/M_ChargedPion)**2\n",
    "Sigma_SC_NeutralKaon = (k_SC/M_NeutralKaon)**2\n",
    "Sigma_SC_NeutralPion = (k_SC/M_NeutralPion)**2\n",
    "\n",
    "# POINT CROSS-SECTION INTO DI-HIGGS\n",
    "Sigma_Point_NeutralPion = ((Lambda**2)/(128*np.pi))*(1/E_Pion**2)\n",
    "Sigma_Point_NeutralKaon = ((Lambda**2)/(128*np.pi))*(1/E_Kaon**2)"
   ]
  },
  {
   "cell_type": "code",
   "execution_count": 19,
   "id": "7d2e7ef9-facd-451a-8a53-26dd3c43e3b3",
   "metadata": {},
   "outputs": [
    {
     "name": "stderr",
     "output_type": "stream",
     "text": [
      "<>:25: SyntaxWarning: invalid escape sequence '\\s'\n",
      "<>:25: SyntaxWarning: invalid escape sequence '\\s'\n",
      "C:\\Users\\press\\AppData\\Local\\Temp\\ipykernel_20528\\1821684234.py:25: SyntaxWarning: invalid escape sequence '\\s'\n",
      "  plt.title('Log plot of Y(x) for different $\\sigma$ values')\n",
      "C:\\Users\\press\\AppData\\Local\\Temp\\ipykernel_20528\\1821684234.py:25: SyntaxWarning: invalid escape sequence '\\s'\n",
      "  plt.title('Log plot of Y(x) for different $\\sigma$ values')\n"
     ]
    },
    {
     "ename": "NameError",
     "evalue": "name 's_value' is not defined",
     "output_type": "error",
     "traceback": [
      "\u001b[1;31m---------------------------------------------------------------------------\u001b[0m",
      "\u001b[1;31mNameError\u001b[0m                                 Traceback (most recent call last)",
      "Cell \u001b[1;32mIn[19], line 11\u001b[0m\n\u001b[0;32m      9\u001b[0m \u001b[38;5;28;01mfor\u001b[39;00m sigma_value \u001b[38;5;129;01min\u001b[39;00m sigma_values:\n\u001b[0;32m     10\u001b[0m     sigma_name \u001b[38;5;241m=\u001b[39m get_variable_name(sigma_value, \u001b[38;5;28mglobals\u001b[39m())\n\u001b[1;32m---> 11\u001b[0m     sol \u001b[38;5;241m=\u001b[39m solve_ivp(\u001b[38;5;28;01mlambda\u001b[39;00m x, Y: dYdx(x, Y, sigma_value), x_span, Y0, t_eval\u001b[38;5;241m=\u001b[39mx_eval)\n\u001b[0;32m     13\u001b[0m     \u001b[38;5;66;03m# Number of frozen-out dm particles\u001b[39;00m\n\u001b[0;32m     14\u001b[0m     Y_frozen \u001b[38;5;241m=\u001b[39m sol\u001b[38;5;241m.\u001b[39my[\u001b[38;5;241m0\u001b[39m, \u001b[38;5;241m-\u001b[39m\u001b[38;5;241m1\u001b[39m]\n",
      "File \u001b[1;32m~\\anaconda3\\Lib\\site-packages\\scipy\\integrate\\_ivp\\ivp.py:621\u001b[0m, in \u001b[0;36msolve_ivp\u001b[1;34m(fun, t_span, y0, method, t_eval, dense_output, events, vectorized, args, **options)\u001b[0m\n\u001b[0;32m    618\u001b[0m \u001b[38;5;28;01mif\u001b[39;00m method \u001b[38;5;129;01min\u001b[39;00m METHODS:\n\u001b[0;32m    619\u001b[0m     method \u001b[38;5;241m=\u001b[39m METHODS[method]\n\u001b[1;32m--> 621\u001b[0m solver \u001b[38;5;241m=\u001b[39m method(fun, t0, y0, tf, vectorized\u001b[38;5;241m=\u001b[39mvectorized, \u001b[38;5;241m*\u001b[39m\u001b[38;5;241m*\u001b[39moptions)\n\u001b[0;32m    623\u001b[0m \u001b[38;5;28;01mif\u001b[39;00m t_eval \u001b[38;5;129;01mis\u001b[39;00m \u001b[38;5;28;01mNone\u001b[39;00m:\n\u001b[0;32m    624\u001b[0m     ts \u001b[38;5;241m=\u001b[39m [t0]\n",
      "File \u001b[1;32m~\\anaconda3\\Lib\\site-packages\\scipy\\integrate\\_ivp\\rk.py:94\u001b[0m, in \u001b[0;36mRungeKutta.__init__\u001b[1;34m(self, fun, t0, y0, t_bound, max_step, rtol, atol, vectorized, first_step, **extraneous)\u001b[0m\n\u001b[0;32m     92\u001b[0m \u001b[38;5;28mself\u001b[39m\u001b[38;5;241m.\u001b[39mmax_step \u001b[38;5;241m=\u001b[39m validate_max_step(max_step)\n\u001b[0;32m     93\u001b[0m \u001b[38;5;28mself\u001b[39m\u001b[38;5;241m.\u001b[39mrtol, \u001b[38;5;28mself\u001b[39m\u001b[38;5;241m.\u001b[39matol \u001b[38;5;241m=\u001b[39m validate_tol(rtol, atol, \u001b[38;5;28mself\u001b[39m\u001b[38;5;241m.\u001b[39mn)\n\u001b[1;32m---> 94\u001b[0m \u001b[38;5;28mself\u001b[39m\u001b[38;5;241m.\u001b[39mf \u001b[38;5;241m=\u001b[39m \u001b[38;5;28mself\u001b[39m\u001b[38;5;241m.\u001b[39mfun(\u001b[38;5;28mself\u001b[39m\u001b[38;5;241m.\u001b[39mt, \u001b[38;5;28mself\u001b[39m\u001b[38;5;241m.\u001b[39my)\n\u001b[0;32m     95\u001b[0m \u001b[38;5;28;01mif\u001b[39;00m first_step \u001b[38;5;129;01mis\u001b[39;00m \u001b[38;5;28;01mNone\u001b[39;00m:\n\u001b[0;32m     96\u001b[0m     \u001b[38;5;28mself\u001b[39m\u001b[38;5;241m.\u001b[39mh_abs \u001b[38;5;241m=\u001b[39m select_initial_step(\n\u001b[0;32m     97\u001b[0m         \u001b[38;5;28mself\u001b[39m\u001b[38;5;241m.\u001b[39mfun, \u001b[38;5;28mself\u001b[39m\u001b[38;5;241m.\u001b[39mt, \u001b[38;5;28mself\u001b[39m\u001b[38;5;241m.\u001b[39my, \u001b[38;5;28mself\u001b[39m\u001b[38;5;241m.\u001b[39mf, \u001b[38;5;28mself\u001b[39m\u001b[38;5;241m.\u001b[39mdirection,\n\u001b[0;32m     98\u001b[0m         \u001b[38;5;28mself\u001b[39m\u001b[38;5;241m.\u001b[39merror_estimator_order, \u001b[38;5;28mself\u001b[39m\u001b[38;5;241m.\u001b[39mrtol, \u001b[38;5;28mself\u001b[39m\u001b[38;5;241m.\u001b[39matol)\n",
      "File \u001b[1;32m~\\anaconda3\\Lib\\site-packages\\scipy\\integrate\\_ivp\\base.py:154\u001b[0m, in \u001b[0;36mOdeSolver.__init__.<locals>.fun\u001b[1;34m(t, y)\u001b[0m\n\u001b[0;32m    152\u001b[0m \u001b[38;5;28;01mdef\u001b[39;00m \u001b[38;5;21mfun\u001b[39m(t, y):\n\u001b[0;32m    153\u001b[0m     \u001b[38;5;28mself\u001b[39m\u001b[38;5;241m.\u001b[39mnfev \u001b[38;5;241m+\u001b[39m\u001b[38;5;241m=\u001b[39m \u001b[38;5;241m1\u001b[39m\n\u001b[1;32m--> 154\u001b[0m     \u001b[38;5;28;01mreturn\u001b[39;00m \u001b[38;5;28mself\u001b[39m\u001b[38;5;241m.\u001b[39mfun_single(t, y)\n",
      "File \u001b[1;32m~\\anaconda3\\Lib\\site-packages\\scipy\\integrate\\_ivp\\base.py:23\u001b[0m, in \u001b[0;36mcheck_arguments.<locals>.fun_wrapped\u001b[1;34m(t, y)\u001b[0m\n\u001b[0;32m     22\u001b[0m \u001b[38;5;28;01mdef\u001b[39;00m \u001b[38;5;21mfun_wrapped\u001b[39m(t, y):\n\u001b[1;32m---> 23\u001b[0m     \u001b[38;5;28;01mreturn\u001b[39;00m np\u001b[38;5;241m.\u001b[39masarray(fun(t, y), dtype\u001b[38;5;241m=\u001b[39mdtype)\n",
      "Cell \u001b[1;32mIn[19], line 11\u001b[0m, in \u001b[0;36m<lambda>\u001b[1;34m(x, Y)\u001b[0m\n\u001b[0;32m      9\u001b[0m \u001b[38;5;28;01mfor\u001b[39;00m sigma_value \u001b[38;5;129;01min\u001b[39;00m sigma_values:\n\u001b[0;32m     10\u001b[0m     sigma_name \u001b[38;5;241m=\u001b[39m get_variable_name(sigma_value, \u001b[38;5;28mglobals\u001b[39m())\n\u001b[1;32m---> 11\u001b[0m     sol \u001b[38;5;241m=\u001b[39m solve_ivp(\u001b[38;5;28;01mlambda\u001b[39;00m x, Y: dYdx(x, Y, sigma_value), x_span, Y0, t_eval\u001b[38;5;241m=\u001b[39mx_eval)\n\u001b[0;32m     13\u001b[0m     \u001b[38;5;66;03m# Number of frozen-out dm particles\u001b[39;00m\n\u001b[0;32m     14\u001b[0m     Y_frozen \u001b[38;5;241m=\u001b[39m sol\u001b[38;5;241m.\u001b[39my[\u001b[38;5;241m0\u001b[39m, \u001b[38;5;241m-\u001b[39m\u001b[38;5;241m1\u001b[39m]\n",
      "Cell \u001b[1;32mIn[13], line 24\u001b[0m, in \u001b[0;36mdYdx\u001b[1;34m(x, Y, sigma_value)\u001b[0m\n\u001b[0;32m     22\u001b[0m \u001b[38;5;28;01mdef\u001b[39;00m \u001b[38;5;21mdYdx\u001b[39m(x, Y, sigma_value):\n\u001b[0;32m     23\u001b[0m     Y_eq \u001b[38;5;241m=\u001b[39m Y_EQ(x)\n\u001b[1;32m---> 24\u001b[0m     lambda_val \u001b[38;5;241m=\u001b[39m lambda_x(x, m, g_starS, g_star, sigma_value)\n\u001b[0;32m     26\u001b[0m     \u001b[38;5;28;01mif\u001b[39;00m x \u001b[38;5;241m>\u001b[39m \u001b[38;5;241m100\u001b[39m:  \u001b[38;5;66;03m# Arbitrary cutoff for equilibrium; modify as needed\u001b[39;00m\n\u001b[0;32m     27\u001b[0m         \u001b[38;5;28;01mreturn\u001b[39;00m np\u001b[38;5;241m.\u001b[39marray([\u001b[38;5;241m0\u001b[39m])\n",
      "Cell \u001b[1;32mIn[13], line 20\u001b[0m, in \u001b[0;36mlambda_x\u001b[1;34m(x, m, g_s, g_star, sigma_value)\u001b[0m\n\u001b[0;32m     17\u001b[0m T \u001b[38;5;241m=\u001b[39m m\u001b[38;5;241m/\u001b[39mx\n\u001b[0;32m     18\u001b[0m thermally_avg_sigma \u001b[38;5;241m=\u001b[39m thermally_averaged_cross_section(T, m, sigma_value)\n\u001b[1;32m---> 20\u001b[0m \u001b[38;5;28;01mreturn\u001b[39;00m (x \u001b[38;5;241m*\u001b[39m thermally_avg_sigma \u001b[38;5;241m*\u001b[39m s_value) \u001b[38;5;241m/\u001b[39m H_m_value\n",
      "\u001b[1;31mNameError\u001b[0m: name 's_value' is not defined"
     ]
    }
   ],
   "source": [
    "Y0 = [1e25]  \n",
    "x_min = 3  \n",
    "x_max = 10 \n",
    "x_span = (x_min, x_max)\n",
    "x_eval = np.linspace(x_min, x_max, 500000)\n",
    "\n",
    "sigma_values = [Sigma_Point_NeutralKaon, Sigma_Point_NeutralPion]\n",
    "\n",
    "for sigma_value in sigma_values:\n",
    "    sigma_name = get_variable_name(sigma_value, globals())\n",
    "    sol = solve_ivp(lambda x, Y: dYdx(x, Y, sigma_value), x_span, Y0, t_eval=x_eval)\n",
    "        \n",
    "    # Number of frozen-out dm particles\n",
    "    Y_frozen = sol.y[0, -1]\n",
    "    print(f'Frozen-out Y(x) for {sigma_name} = {sigma_value}: {Y_frozen}')\n",
    "    \n",
    "    plt.plot(sol.t, sol.y[0], label=f'{sigma_name} = {sigma_value}')\n",
    "\n",
    "    \n",
    "# Plot configurations\n",
    "plt.yscale('log')  \n",
    "#plt.xscale('log')  \n",
    "plt.xlabel('x = m/T')\n",
    "plt.ylabel('log(Y/Y(x=0))')\n",
    "plt.title('Log plot of Y(x) for different $\\sigma$ values')\n",
    "plt.legend()\n",
    "plt.grid(True)\n",
    "#plt.savefig('DifferentSigmaSValues.png', facecolor='w')\n",
    "\n",
    "plt.show()"
   ]
  },
  {
   "cell_type": "code",
   "execution_count": null,
   "id": "b68769f5-d38e-45bf-93c8-30175aab6cec",
   "metadata": {
    "panel-layout": {
     "height": 874,
     "visible": true,
     "width": 100
    }
   },
   "outputs": [],
   "source": [
    "#Extra cell with dummy sigmas\n",
    "\"\"\"\n",
    "# Initial conditions and x range\n",
    "Y0 = [1.0]  \n",
    "x_min = 3  \n",
    "x_max = 3e3 \n",
    "x_span = (x_min, x_max)\n",
    "x_eval = np.linspace(x_min, x_max, 50000)\n",
    "\n",
    "# Values for sigma(s - 4m^2)\n",
    "sigma_values = [1e1, 1e2, 1e3]\n",
    "\n",
    "# Plotting the results for different sigma values\n",
    "plt.figure(figsize=(8, 6))\n",
    "\n",
    "for sigma_value in sigma_values:\n",
    "    sol = solve_ivp(lambda x, Y: dYdx(x, Y, sigma_value), x_span, Y0, t_eval=x_eval)\n",
    "    \n",
    "    # Plot the current sigma_value\n",
    "    plt.plot(sol.t, sol.y[0], label=f'sigma = {sigma_value}')\n",
    "\n",
    "plt.yscale('log')  \n",
    "plt.xscale('log')  \n",
    "plt.xlabel('x = m/T')\n",
    "plt.ylabel('log(Y/Y(x=0))')\n",
    "plt.title('Log plot of Y(x) for different $\\sigma$ values')\n",
    "plt.legend()\n",
    "plt.grid(True)\n",
    "#plt.savefig('DifferentSigmaSValues.png', facecolor='w')\n",
    "\n",
    "plt.show()\n",
    "\"\"\""
   ]
  },
  {
   "cell_type": "code",
   "execution_count": null,
   "id": "76a40f72-bb21-4da3-927a-d434b7e56a83",
   "metadata": {},
   "outputs": [],
   "source": []
  }
 ],
 "metadata": {
  "kernelspec": {
   "display_name": "Python [conda env:base] *",
   "language": "python",
   "name": "conda-base-py"
  },
  "language_info": {
   "codemirror_mode": {
    "name": "ipython",
    "version": 3
   },
   "file_extension": ".py",
   "mimetype": "text/x-python",
   "name": "python",
   "nbconvert_exporter": "python",
   "pygments_lexer": "ipython3",
   "version": "3.12.7"
  },
  "panel-cell-order": [
   "f82acc07-fb88-4dfe-8dd7-9357be9b0a09",
   "3c549cf8-477c-40cd-82f6-1896e486cb1a"
  ]
 },
 "nbformat": 4,
 "nbformat_minor": 5
}
