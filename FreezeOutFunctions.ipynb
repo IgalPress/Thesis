{
 "cells": [
  {
   "cell_type": "code",
   "execution_count": 13,
   "id": "5b99b92c-533c-46fa-942e-73904c4bbb3f",
   "metadata": {
    "editable": true,
    "slideshow": {
     "slide_type": ""
    },
    "tags": []
   },
   "outputs": [],
   "source": [
    "import numpy as np\n",
    "# CONSTANTS\n",
    "n = 1          \n",
    "g = 20        # Degrees of freedom\n",
    "c1 = np.sqrt(4*np.pi**3/45)\n",
    "c2 = 2*np.pi**2/45\n",
    "DecayConstant = 1"
   ]
  },
  {
   "cell_type": "code",
   "execution_count": 8,
   "id": "60cd14bb-9db0-424e-a598-1fb63562c132",
   "metadata": {},
   "outputs": [],
   "source": [
    "def g_star(Temp):\n",
    "    # Find closest temperature value in Gstardata\n",
    "    closest_temp = min(Gstardata.keys(), key=lambda t: abs(t - Temp))\n",
    "    return Gstardata[closest_temp]\n",
    "\n",
    "def g_starS(Temp):\n",
    "    # Find closest temperature value in GstarSdata\n",
    "    closest_temp = min(GstarSdata.keys(), key=lambda t: abs(t - Temp))\n",
    "    return GstarSdata[closest_temp]"
   ]
  },
  {
   "cell_type": "code",
   "execution_count": 10,
   "id": "2cb1c622-72cb-4807-925f-4bb62a6b2349",
   "metadata": {},
   "outputs": [],
   "source": [
    "def Y_EQ(x):\n",
    "    return 0.145 * (g / g_starS(m / x)) * x**(3/2) * np.exp(-x) #eqn 5.25\n",
    "\n",
    "# Define H(m) function (Hubble parameter)\n",
    "def H_m(x):\n",
    "    return (c1 * np.sqrt(g_star(m / x)) * (m / x)**2) / M_Pl\n",
    "\n",
    "# Define s(x, m) function (entropy density)\n",
    "def s(x, m):\n",
    "    return c2 * g_star(m / x) * (m / x)**3"
   ]
  },
  {
   "cell_type": "code",
   "execution_count": 26,
   "id": "29e95213-0ac6-4259-b29e-1fc4445c6b48",
   "metadata": {
    "editable": true,
    "slideshow": {
     "slide_type": ""
    },
    "tags": []
   },
   "outputs": [],
   "source": [
    "def Energy(Velocity, Mass): #E = sqrt(m^2 + p^2)\n",
    "    P = 0.5*Mass*(Velocity**2)\n",
    "    return np.sqrt(Mass**2 + P**2) #energy will change with the temperature. the cross section is (1/2s)(amplitude)\n",
    "\n",
    "# Cross-section formula for a single Lambda\n",
    "def sigma(s, *lambdas, particle=None):\n",
    "    if particle is not None:\n",
    "        lambdas = particle\n",
    "    return sum(Lambda / (2 * s) for Lambda in lambdas) #Make an array that has lambdas_pion, lambdas_proton, lambdas_neutron, etc. for all of their interactions\n",
    "    \n",
    "def thermally_averaged_cross_section(T, m, Lambda):\n",
    "    def integrand(s):\n",
    "        return sigma(s, Lambda) * np.sqrt(s) * kn(1, np.sqrt(s) / T)\n",
    "        \n",
    "    integral_result, error = quad(integrand, 4 * m**2, np.inf)\n",
    "    return (1 / (8 * m**4 * T * kn(2, m / T))) * integral_result\n",
    "\n",
    "# Lambda_x function for freeze-out dynamics\n",
    "def lambda_x(x, m, g_s, g_star, Lambda):\n",
    "    H_m_value = H_m(x)  \n",
    "    T = m / x\n",
    "    thermally_avg_sigma = thermally_averaged_cross_section(T, m, Lambda)\n",
    "    s_value = s(x, m)\n",
    "    return (x * thermally_avg_sigma * s_value) / H_m_value # Equation 1.57 in my thesis notes.\n",
    "\n",
    "# Differential equation for relic abundance\n",
    "def dYdx(x, Y, Lambda, particle):\n",
    "    Y_eq = Y_EQ(x)\n",
    "    ratio = particle_dict.get(particle, 1)  # Get the particle's ratio; default to 1 if not found\n",
    "    lambda_val = lambda_x(x * ratio, m, g_starS, g_star, Lambda)\n",
    "\n",
    "    if x > 100:  # Arbitrary cutoff for equilibrium\n",
    "        return np.array([0])\n",
    "    result = -lambda_val * x**(-n-2) * (Y**2 - Y_eq**2)\n",
    "    return np.array([result])\n",
    "\n",
    "def get_variable_name(var, global_vars):\n",
    "    names = [name for name, value in global_vars.items() if value is var]\n",
    "    return names[0] if names else \"unknown\""
   ]
  },
  {
   "cell_type": "code",
   "execution_count": 20,
   "id": "037c772e-bf25-4311-8f3a-4fa43088285f",
   "metadata": {},
   "outputs": [],
   "source": [
    "def AvgDecayRate(x):\n",
    "    return np.exp(-DecayConstant*x) #Ae^-lambda*t but using x instead\n",
    "\n",
    "def CoupleddYdx(x, Y, Y_prod, AvgDecayRate, Lambda):\n",
    "    Y_eq = Y_EQ(x)  \n",
    "    lambda_val = lambda_x(x, m, g_starS, g_star, Lambda)\n",
    "    AvgDecayRate_val = AvgDecayRate(x)\n",
    "    \n",
    "    if x > 100:  # Arbitrary cutoff for equilibrium; modify as needed\n",
    "        return np.array([0])\n",
    "    #NOTE THAT YOU NEED TO DEFINE A DECAY RATE, Y_PROD AND Y_PROD_EQ\n",
    "    result = -lambda_val * x**(-n-2) * (Y**2 - Y_eq**2) - ((1.661*x)/((m**2)*(g_star**1/2))*AvgDecayRate_val*(Y-Y_eq*(Y_prod/Y_prod_eq)**2)) \n",
    "    return np.array([result])\n",
    "\n",
    "def dYproddx(x, Y, Y_prod, AvgDecayRate, Lambda):\n",
    "    AvgDecayRate_val = AvgDecayRate(x)\n",
    "    \n",
    "    if x > 100:  # Arbitrary cutoff for equilibrium; modify as needed\n",
    "        return np.array([0])\n",
    "        \n",
    "    result = - ((1.661*x)/((m**2)*(g_star**1/2))*AvgDecayRate_val*(Y-Y_eq*(Y_prod/Y_prod_eq)**2))\n",
    "    return np.array([result])"
   ]
  },
  {
   "cell_type": "markdown",
   "id": "ec289dce-d4fa-46d4-a378-d0e17af109a2",
   "metadata": {
    "editable": true,
    "slideshow": {
     "slide_type": ""
    },
    "tags": []
   },
   "source": [
    "# To do list\n",
    "##### Want sum(m_P * Y) = 4e-10 GeV so all the particle masses multiplied by the relic abundance should be equal to 4e-10 GeV"
   ]
  },
  {
   "cell_type": "code",
   "execution_count": null,
   "id": "ca393602-c9b3-40d0-98dd-62d0f856e779",
   "metadata": {},
   "outputs": [],
   "source": [
    "#def sigma(s, Lambda):\n",
    "#    return Lambda / (2 * s)\n",
    "\n",
    "\"\"\"\n",
    "# Differential equation for relic abundance\n",
    "def dYdx(x, Y, Lambda):\n",
    "    Y_eq = Y_EQ(x)  \n",
    "    lambda_val = lambda_x(x, m, g_starS, g_star, Lambda)\n",
    "    \n",
    "    if x > 100:  # Arbitrary cutoff for equilibrium; modify as needed\n",
    "        return np.array([0])\n",
    "    \n",
    "    result = -lambda_val * x**(-n-2) * (Y**2 - Y_eq**2)\n",
    "    return np.array([result])\n",
    "\"\"\""
   ]
  },
  {
   "cell_type": "code",
   "execution_count": null,
   "id": "7200fa8a-b856-4f9e-84cf-05a4999db618",
   "metadata": {},
   "outputs": [],
   "source": []
  }
 ],
 "metadata": {
  "kernelspec": {
   "display_name": "Python [conda env:base] *",
   "language": "python",
   "name": "conda-base-py"
  },
  "language_info": {
   "codemirror_mode": {
    "name": "ipython",
    "version": 3
   },
   "file_extension": ".py",
   "mimetype": "text/x-python",
   "name": "python",
   "nbconvert_exporter": "python",
   "pygments_lexer": "ipython3",
   "version": "3.12.7"
  }
 },
 "nbformat": 4,
 "nbformat_minor": 5
}
