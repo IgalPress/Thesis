{
 "cells": [
  {
   "cell_type": "code",
   "execution_count": 3,
   "id": "06c80809-a3b2-4cce-b7fc-3b7ce8477d96",
   "metadata": {},
   "outputs": [],
   "source": [
    "import csv\n",
    "import numpy as np"
   ]
  },
  {
   "cell_type": "code",
   "execution_count": 11,
   "id": "df996dc5-441e-4997-9d5a-6bbaa582b88e",
   "metadata": {},
   "outputs": [],
   "source": [
    "with open('Gstar.csv', 'r') as f:\n",
    "    Gstarreader = csv.reader(f)\n",
    "    Gstardata = list(Gstarreader)\n",
    "with open('GstarS.csv', 'r') as f:\n",
    "    GstarSreader = csv.reader(f)\n",
    "    GstarSdata = list(GstarSreader)"
   ]
  },
  {
   "cell_type": "code",
   "execution_count": 14,
   "id": "6ae2531a-4f3a-40a6-9187-8be3b38629b1",
   "metadata": {},
   "outputs": [
    {
     "name": "stdout",
     "output_type": "stream",
     "text": [
      "['369.6125627296034', ' 100.1067107256936']\n",
      "['369.6125627296034', ' 100.1067107256936']\n"
     ]
    }
   ],
   "source": [
    "print(Gstardata[0])\n",
    "print(GstarSdata[0])"
   ]
  },
  {
   "cell_type": "code",
   "execution_count": 32,
   "id": "f6196d00-da25-4e11-a17f-4630e337e984",
   "metadata": {},
   "outputs": [],
   "source": [
    "def gstar(Temp):\n",
    "    return float(Gstardata[Temp][0])\n",
    "\n",
    "def gstarS(Temp):\n",
    "    return float(GstarSdata[Temp][0])"
   ]
  },
  {
   "cell_type": "code",
   "execution_count": null,
   "id": "0ea3d831-c72f-4b4c-84a6-644a610a453a",
   "metadata": {},
   "outputs": [],
   "source": []
  },
  {
   "cell_type": "code",
   "execution_count": null,
   "id": "67a9b815-bb44-488d-955a-5aadf0e7e381",
   "metadata": {},
   "outputs": [],
   "source": []
  }
 ],
 "metadata": {
  "kernelspec": {
   "display_name": "Python 3 (ipykernel)",
   "language": "python",
   "name": "python3"
  },
  "language_info": {
   "codemirror_mode": {
    "name": "ipython",
    "version": 3
   },
   "file_extension": ".py",
   "mimetype": "text/x-python",
   "name": "python",
   "nbconvert_exporter": "python",
   "pygments_lexer": "ipython3",
   "version": "3.9.7"
  }
 },
 "nbformat": 4,
 "nbformat_minor": 5
}
