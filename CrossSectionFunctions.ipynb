{
 "cells": [
  {
   "cell_type": "code",
   "execution_count": 15,
   "id": "378083bd-479e-4d76-890d-b539f55aae35",
   "metadata": {},
   "outputs": [],
   "source": [
    "%run FreezeOutFunctions.ipynb"
   ]
  },
  {
   "cell_type": "markdown",
   "id": "bbf2ca4f-5ad4-4152-a80c-b85315db318d",
   "metadata": {},
   "source": [
    "#### ASSUMING THAT COUPLING CONSTANT OF STRANGENESS VIOLATING WEAK INTERACTIONS ARE 10^-6, STRANGENESS CONSERVING ARE 10^-7\n",
    "### NAMING CONVENTION:\n",
    "##### SV = Strangeness Violating, SC = Strangeness Conserving\n",
    "##### Sigma_{Strangeness Conserving/Violating} _ {Particle Mediator} = (k_{Strangeness Conserving/Violating}/M_{Mediator Particle})**2"
   ]
  },
  {
   "cell_type": "code",
   "execution_count": 18,
   "id": "5903f896-a76c-40a0-bd57-751605057c5d",
   "metadata": {},
   "outputs": [],
   "source": [
    "# COUPLING CONSTANTS\n",
    "k_SC, k_SV = 1e-6,1e-7 #Talk to Evan and change these numbers\n",
    "k_Point = 1e-3\n",
    "\n",
    "\n",
    "# PARTICLE VELOCITIES\n",
    "V_Pion = 54 #m/s \n",
    "V_Kaon = 54\n",
    "V_Baryon = 54\n",
    "\"\"\"\n",
    "# Particle masses in MeV\n",
    "m = 0.511      # Electron mass in MeV\n",
    "M_Pl = 1.2206e22  # Planck mass in MeV\n",
    "M_Proton, M_Neutron, M_Lambda = 938.2720813, 939.57, 1115.683\n",
    "M_ChargedPion, M_NeutralPion = 139.57039, 134.9768\n",
    "M_ChargedKaon, M_NeutralKaon = 493.677, 497.611\n",
    "\"\"\"\n",
    "# Particle masses in GeV\n",
    "m = 0.511e-3      # Electron mass in GeV\n",
    "M_Pl = 1.2206e19  # Planck mass in GeV\n",
    "M_Proton, M_Neutron, M_Lambda = 938.2720813e-3, 939.57e-3, 1115.683e-3\n",
    "M_ChargedPion, M_NeutralPion = 139.57039e-3, 134.9768e-3\n",
    "M_ChargedKaon, M_NeutralKaon = 493.677e-3, 497.611e-3\n",
    "\n",
    "\n",
    "#Testing pion masses to measure how mass effects these calcs\n",
    "M_NeutralPion = 1e-1\n",
    "M_NeutralKaon = 4e-1\n",
    "\n",
    "Test_baryon = 1 #GeV\n",
    "Test_meson = 1\n",
    "Test_meson2 = 1\n",
    "Test_meson3 = 1\n",
    "Test_meson4 = 1\n",
    "\n",
    "particle_mass = {\n",
    "    'Electron': m,\n",
    "    'PlanckConstant': M_Pl,\n",
    "    'Proton': M_Proton,\n",
    "    'Neutron': M_Neutron,\n",
    "    'Lambda': M_Lambda,\n",
    "    'ChargedPion': M_ChargedPion,\n",
    "    'NeutralPion': M_NeutralPion,\n",
    "    'ChargedKaon': M_ChargedKaon,\n",
    "    'NeutralKaon': M_NeutralKaon,\n",
    "    'TestBaryon': Test_baryon,\n",
    "    'TestMeson': Test_meson,\n",
    "    'TestMeson2': Test_meson2,\n",
    "    'TestMeson3': Test_meson3,\n",
    "    'TestMeson4': Test_meson4,\n",
    "    'TestMeson5': 1,\n",
    "}"
   ]
  },
  {
   "cell_type": "code",
   "execution_count": null,
   "id": "ea2b2b10-c22e-4054-94ba-4fe1f84f6dd0",
   "metadata": {},
   "outputs": [],
   "source": []
  },
  {
   "cell_type": "code",
   "execution_count": 21,
   "id": "ac84f88d-8b40-47aa-be2b-7d1094bffbcd",
   "metadata": {},
   "outputs": [],
   "source": [
    "# PARTICLE RATIOS TO SCALE THE X VALUES. EVERYTHING IS SCALED BASED OFF THE NEUTRAL PION AS IT IS THE LIGHTEST HADRON\n",
    "R_NP = M_NeutralPion/M_Lambda\n",
    "R_CP = M_ChargedPion/M_Lambda\n",
    "R_NK = M_NeutralKaon/M_Lambda\n",
    "R_CK = M_ChargedKaon/M_Lambda\n",
    "R_L = 1\n",
    "R_P = M_Proton/M_Lambda\n",
    "R_N = M_Neutron/M_Lambda\n",
    "R_testMeson = Test_meson/Test_baryon\n",
    "R_testMeson_2 = Test_meson/Test_baryon\n",
    "\n",
    "R_testBaryon = 1\n",
    "\n",
    "particle_ratios = {\n",
    "    \"ChargedPion\": R_CP,\n",
    "    \"ChargedKaon\": R_CK,\n",
    "    \"NeutralPion\": R_NP,\n",
    "    \"NeutralKaon\": R_NK,\n",
    "    \"Lambda\": R_L,\n",
    "    \"Proton\": R_P,\n",
    "    \"Neutron\": R_N,\n",
    "    \"TestMeson\": R_testMeson,\n",
    "    \"TestMeson2\": 1,\n",
    "    \"TestMeson3\": 1,\n",
    "    \"TestMeson4\": 1,\n",
    "    \"TestMeson5\": 1,\n",
    "    \"TestBaryon\": R_testBaryon\n",
    "}"
   ]
  },
  {
   "cell_type": "code",
   "execution_count": 25,
   "id": "b3461ab8-631a-4142-bfe0-f24323c17801",
   "metadata": {
    "editable": true,
    "slideshow": {
     "slide_type": ""
    },
    "tags": []
   },
   "outputs": [],
   "source": [
    "Sigma_Meson = 1e-20\n",
    "\n",
    "particle_cross_sections = {\n",
    "    \"TestMeson\" :1e-22,\n",
    "    \"TestBaryon\" : 1e-23,\n",
    "    \"TestMeson2\": 1e-24\n",
    "}\n",
    "\n",
    "particle_coupling_constants = {\n",
    "    \"TestMeson\": 1e-20,\n",
    "    \"TestBaryon\": 1e-21,\n",
    "    \"TestMeson2\": 1e-22,\n",
    "    \"TestMeson3\": 1e-23,\n",
    "    \"TestMeson4\": 1e-19,\n",
    "    \"TestMeson5\": 1e-18,\n",
    "}\n",
    "\n",
    "\n",
    "# STRANGENESS VIOLATING CROSS-SECTIONS\n",
    "Sigma_SV_Neutron = (k_SV/M_Neutron)**2\n",
    "Sigma_SV_Proton = (k_SV/M_Proton)**2\n",
    "Sigma_SV_Lambda = (k_SV/M_Lambda)**2\n",
    "Sigma_SV_ChargedKaon = (k_SV/M_ChargedKaon)**2\n",
    "Sigma_SV_ChargedPion = (k_SV/M_ChargedPion)**2\n",
    "Sigma_SV_NeutralKaon = (k_SV/M_NeutralKaon)**2\n",
    "Sigma_SV_NeutralPion = (k_SV/M_NeutralPion)**2\n",
    "\n",
    "# STRANGENESS CONSERVING CROSS-SECTIONS\n",
    "Sigma_SC_Neutron = (k_SC/M_Neutron)**2\n",
    "Sigma_SC_Proton = (k_SC/M_Proton)**2\n",
    "Sigma_SC_Lambda = (k_SC/M_Lambda)**2\n",
    "Sigma_SC_ChargedKaon = (k_SC/M_ChargedKaon)**2\n",
    "Sigma_SC_ChargedPion = (k_SC/M_ChargedPion)**2\n",
    "Sigma_SC_NeutralKaon = (k_SC/M_NeutralKaon)**2\n",
    "Sigma_SC_NeutralPion = (k_SC/M_NeutralPion)**2\n",
    "\n",
    "# POINT CROSS-SECTION INTO DI-HIGGS\n",
    "#Sigma_Point_NeutralPion = ((k_Point**2)/(128*np.pi))*(1/E_Pion**2)\n",
    "#Sigma_Point_NeutralKaon = ((k_Point**2)/(128*np.pi))*(1/E_Kaon**2)\n"
   ]
  },
  {
   "cell_type": "code",
   "execution_count": 27,
   "id": "5234f040-6d57-4b1b-acc2-093a37ffff16",
   "metadata": {},
   "outputs": [],
   "source": [
    "Lambdas_lambda = [8*k_SV, 12*k_SC] #there are 8 strangeness violating vertexes and 12 strangeness conserving processes for lambda particles."
   ]
  },
  {
   "cell_type": "code",
   "execution_count": null,
   "id": "2247d3de-7b79-4440-803b-5c03b5d4146d",
   "metadata": {},
   "outputs": [],
   "source": [
    "#One set of parameters is if coupling constant is ~ 1e-20 and mass is ~1GeV."
   ]
  },
  {
   "cell_type": "code",
   "execution_count": null,
   "id": "0f6e7a79-9ca9-460e-945c-ec085011663d",
   "metadata": {},
   "outputs": [],
   "source": []
  }
 ],
 "metadata": {
  "kernelspec": {
   "display_name": "Python [conda env:base] *",
   "language": "python",
   "name": "conda-base-py"
  },
  "language_info": {
   "codemirror_mode": {
    "name": "ipython",
    "version": 3
   },
   "file_extension": ".py",
   "mimetype": "text/x-python",
   "name": "python",
   "nbconvert_exporter": "python",
   "pygments_lexer": "ipython3",
   "version": "3.12.7"
  }
 },
 "nbformat": 4,
 "nbformat_minor": 5
}
