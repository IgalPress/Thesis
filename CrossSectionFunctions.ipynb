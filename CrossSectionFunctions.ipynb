{
 "cells": [
  {
   "cell_type": "code",
   "execution_count": 5,
   "id": "378083bd-479e-4d76-890d-b539f55aae35",
   "metadata": {},
   "outputs": [],
   "source": [
    "import numpy as np\n",
    "%run FreezeOutFunctions.ipynb"
   ]
  },
  {
   "cell_type": "code",
   "execution_count": 7,
   "id": "5903f896-a76c-40a0-bd57-751605057c5d",
   "metadata": {},
   "outputs": [],
   "source": [
    "# COUPLING CONSTANTS\n",
    "k_SV, k_SC = 1e-6, 1e-7 #Talk to Evan and change these numbers\n",
    "Lambda = 1\n",
    "\n",
    "\n",
    "# PARTICLE VELOCITIES\n",
    "V_Pion = 54 #m/s If the pion is moving at ~1000m/s it has a similar cross-section to the rest\n",
    "V_Kaon = 54\n",
    "V_Baryon = 54\n",
    "\n",
    "# Particle masses in MeV\n",
    "m = 0.511      # Electron mass in MeV\n",
    "M_Pl = 1.0  # Planck constant in MeV\n",
    "M_Proton, M_Neutron, M_Lambda = 938.2720813, 939.57, 1115.683\n",
    "M_ChargedPion, M_NeutralPion = 139.57039, 134.9768\n",
    "M_ChargedKaon, M_NeutralKaon = 493.677, 497.611"
   ]
  },
  {
   "cell_type": "code",
   "execution_count": 9,
   "id": "b3461ab8-631a-4142-bfe0-f24323c17801",
   "metadata": {},
   "outputs": [],
   "source": [
    "# PARTICLE ENERGIES\n",
    "E_Pion = Energy(V_Pion, M_NeutralPion)\n",
    "E_Kaon = Energy(V_Kaon, M_NeutralKaon)\n",
    "\n",
    "# STRANGENESS VIOLATING CROSS-SECTIONS\n",
    "Sigma_SV_Neutron = (k_SV/M_Neutron)**2\n",
    "Sigma_SV_Proton = (k_SV/M_Proton)**2\n",
    "Sigma_SV_Lambda = (k_SV/M_Lambda)**2\n",
    "Sigma_SV_ChargedKaon = (k_SV/M_ChargedKaon)**2\n",
    "Sigma_SV_ChargedPion = (k_SV/M_ChargedPion)**2\n",
    "Sigma_SV_NeutralKaon = (k_SV/M_NeutralKaon)**2\n",
    "Sigma_SV_NeutralPion = (k_SV/M_NeutralPion)**2\n",
    "\n",
    "# STRANGENESS CONSERVING CROSS-SECTIONS\n",
    "Sigma_SC_Neutron = (k_SC/M_Neutron)**2\n",
    "Sigma_SC_Proton = (k_SC/M_Proton)**2\n",
    "Sigma_SC_Lambda = (k_SC/M_Lambda)**2\n",
    "Sigma_SC_ChargedKaon = (k_SC/M_ChargedKaon)**2\n",
    "Sigma_SC_ChargedPion = (k_SC/M_ChargedPion)**2\n",
    "Sigma_SC_NeutralKaon = (k_SC/M_NeutralKaon)**2\n",
    "Sigma_SC_NeutralPion = (k_SC/M_NeutralPion)**2\n",
    "\n",
    "# POINT CROSS-SECTION INTO DI-HIGGS\n",
    "Sigma_Point_NeutralPion = ((Lambda**2)/(128*np.pi))*(1/E_Pion**2)\n",
    "Sigma_Point_NeutralKaon = ((Lambda**2)/(128*np.pi))*(1/E_Kaon**2)"
   ]
  },
  {
   "cell_type": "code",
   "execution_count": null,
   "id": "3c535e6b-47ec-403d-94e3-424506065a58",
   "metadata": {},
   "outputs": [],
   "source": []
  }
 ],
 "metadata": {
  "kernelspec": {
   "display_name": "Python [conda env:base] *",
   "language": "python",
   "name": "conda-base-py"
  },
  "language_info": {
   "codemirror_mode": {
    "name": "ipython",
    "version": 3
   },
   "file_extension": ".py",
   "mimetype": "text/x-python",
   "name": "python",
   "nbconvert_exporter": "python",
   "pygments_lexer": "ipython3",
   "version": "3.12.7"
  }
 },
 "nbformat": 4,
 "nbformat_minor": 5
}
