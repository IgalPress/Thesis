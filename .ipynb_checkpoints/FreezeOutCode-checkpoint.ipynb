{
 "cells": [
  {
   "cell_type": "code",
   "execution_count": 3,
   "id": "53c7fc88-4b9a-4349-8716-7913ce1eff79",
   "metadata": {},
   "outputs": [],
   "source": [
    "import numpy as np\n",
    "import matplotlib.pyplot as plt\n",
    "from scipy.integrate import solve_ivp\n",
    "from scipy.special import kn\n",
    "from scipy.integrate import quad\n",
    "import csv"
   ]
  },
  {
   "cell_type": "markdown",
   "id": "47047034-0e52-40dc-b604-6301e49e019a",
   "metadata": {},
   "source": [
    "# NOTE FOR TOMORROW TO FIX THE FACT THAT T IS A STATIONARY NUMBER AND TAP INTO THE TEMP VALS"
   ]
  },
  {
   "cell_type": "code",
   "execution_count": 5,
   "id": "50984199-3241-48d9-8781-537a8df37433",
   "metadata": {},
   "outputs": [],
   "source": [
    "with open('Gstar.csv', 'r') as f:\n",
    "    Gstarreader = csv.reader(f)\n",
    "    Gstardata = {float(row[0]): float(row[1]) for row in Gstarreader}\n",
    "\n",
    "with open('GstarS.csv', 'r') as f:\n",
    "    GstarSreader = csv.reader(f)\n",
    "    GstarSdata = {float(row[0]): float(row[1]) for row in GstarSreader}"
   ]
  },
  {
   "cell_type": "code",
   "execution_count": 6,
   "id": "10732506-bb9b-470a-adb6-d4e4192d070a",
   "metadata": {},
   "outputs": [],
   "source": [
    "# CONSTANTS\n",
    "n = 1          \n",
    "g = 2.0        # Degrees of freedom\n",
    "c1 = np.sqrt(4*np.pi**3/45)\n",
    "c2 = 2*np.pi**2/45\n",
    "T = 80\n",
    "\n",
    "# COUPLING CONSTANTS\n",
    "k_SV, k_SC = 1e-6, 1e-7 #Talk to Evan and change these numbers\n",
    "Lambda = 1\n",
    "\n",
    "# PARTICLE VELOCITIES\n",
    "V_Pion = 1e3 #m/s If the pion is moving at ~1000m/s it has a similar cross-section to the rest\n",
    "V_Kaon = 1e2\n",
    "\n",
    "# Particle masses in MeV\n",
    "m = 0.511      # Electron mass in MeV\n",
    "M_Pl = 1.0  # Planck constant in MeV\n",
    "M_Proton, M_Neutron, M_Lambda = 938.2720813, 939.57, 1115.683\n",
    "M_ChargedPion, M_NeutralPion = 139.57039, 134.9768\n",
    "M_ChargedKaon, M_NeutralKaon = 493.677, 497.611"
   ]
  },
  {
   "cell_type": "code",
   "execution_count": 7,
   "id": "af1bce51-4a1b-4328-b9e3-888815713f83",
   "metadata": {},
   "outputs": [],
   "source": [
    "def g_star(Temp):\n",
    "    # Find closest temperature value in Gstardata\n",
    "    closest_temp = min(Gstardata.keys(), key=lambda t: abs(t - Temp))\n",
    "    return Gstardata[closest_temp]\n",
    "\n",
    "\n",
    "def g_starS(Temp):\n",
    "    # Find closest temperature value in GstarSdata\n",
    "    closest_temp = min(GstarSdata.keys(), key=lambda t: abs(t - Temp))\n",
    "    return GstarSdata[closest_temp]"
   ]
  },
  {
   "cell_type": "code",
   "execution_count": 8,
   "id": "e5e957a3-040d-4386-a7b3-0191c92b4ede",
   "metadata": {},
   "outputs": [],
   "source": [
    "def Y_EQ(x):\n",
    "    return 0.145 * (g / g_starS(m / x)) * x**(3/2) * np.exp(-x) #eqn 5.25\n",
    "\n",
    "# Define H(m) function (Hubble parameter)\n",
    "def H_m(x):\n",
    "    return (c1 * np.sqrt(g_star(m / x)) * (m / x)**2) / M_Pl\n",
    "\n",
    "# Define s(x, m) function (entropy density)\n",
    "def s(x, m):\n",
    "    return c2 * g_star(m / x) * (m / x)**3"
   ]
  },
  {
   "cell_type": "code",
   "execution_count": 79,
   "id": "0df48369-4989-40ba-a613-449d5bec9e51",
   "metadata": {},
   "outputs": [],
   "source": [
    "def Energy(Velocity, Mass): #E = sqrt(m^2 + p^2)\n",
    "    P = 0.5*Mass*(Velocity**2)\n",
    "    return np.sqrt(Mass**2 + P**2)\n",
    "    \n",
    "def sigma(s_minus_4m2, sigma_value):\n",
    "    return sigma_value  # Replace this with your actual cross-section function\n",
    "\n",
    "def thermally_averaged_cross_section(T, m, sigma_value):\n",
    "    def integrand(s):\n",
    "        return sigma(s - 4 * m**2, sigma_value) * np.sqrt(s) * kn(1, np.sqrt(s) / T)\n",
    "    \n",
    "    integral_result, error = quad(integrand, 4 * m**2, np.inf)\n",
    "    return (1 / (8 * m**4 * T * kn(2, m / T))) * integral_result\n",
    "\n",
    "def lambda_x(x, m, g_s, g_star, sigma_value):\n",
    "    s_value = s(x, m)\n",
    "    H_m_value = H_m(x)\n",
    "    thermally_avg_sigma = thermally_averaged_cross_section(T, m, sigma_value)\n",
    "    \n",
    "    return (x * thermally_avg_sigma * s_value) / H_m_value\n",
    "\n",
    "def dYdx(x, Y, sigma_value):\n",
    "    Y_eq = Y_EQ(x)\n",
    "    lambda_val = lambda_x(x, m, g_starS, g_star, sigma_value)\n",
    "    \n",
    "    result = - lambda_val * x**(-n-2) * (Y**2 - Y_eq**2)\n",
    "    return np.array([result])\n",
    "\n",
    "def get_variable_name(var, global_vars):\n",
    "    names = [name for name, value in global_vars.items() if value is var]\n",
    "    return names[0] if names else \"unknown\""
   ]
  },
  {
   "cell_type": "markdown",
   "id": "3c549cf8-477c-40cd-82f6-1896e486cb1a",
   "metadata": {
    "panel-layout": {
     "height": 267.484375,
     "visible": true,
     "width": 100
    }
   },
   "source": [
    "#### sigma = k^2/mp^2 where k is the coupling constant and mp is the mass of the mediating particle.\n",
    "#### The strangeness conserving interactions and strangeness violating processes have different coupling constants.\n",
    "#### k_violating > k_conserving\n",
    "#### Take Mass of the particles to be equal to SM particles as of now.\n",
    "#### sigma = sum_i^N sigma_i where N is the number of ways the particle can annihilate.\n",
    "#### Need a Boltzmann equation for pi and K\n",
    "#### Only look at processes that change total particle number\n",
    "#### Strong coupling counstant is approx 1\n",
    "#### Weak coupling constant is approx 10^-7\n",
    "##### http://hyperphysics.phy-astr.gsu.edu/hbase/Forces/couple.html"
   ]
  },
  {
   "cell_type": "markdown",
   "id": "9f4ba360-70bd-4b62-9d10-0141b5eb9807",
   "metadata": {},
   "source": [
    "#### ASSUMING THAT COUPLING CONSTANT OF STRANGENESS VIOLATING WEAK INTERACTIONS ARE 10^-6, STRANGENESS CONSERVING ARE 10^-7\n",
    "### NAMING CONVENTION:\n",
    "##### SV = Strangeness Violating, SC = Strangeness Conserving\n",
    "##### Sigma_{Strangeness Conserving/Violating} _ {Particle Mediator} = (k_{Strangeness Conserving/Violating}/M_{Mediator Particle})**2"
   ]
  },
  {
   "cell_type": "code",
   "execution_count": 101,
   "id": "853363b2-b436-4839-9b37-0cc3c5b0bd3d",
   "metadata": {},
   "outputs": [],
   "source": [
    "# PARTICLE ENERGIES\n",
    "E_Pion = Energy(V_Pion, M_NeutralPion)\n",
    "E_Kaon = Energy(V_Kaon, M_NeutralKaon)\n",
    "\n",
    "# STRANGENESS VIOLATING CROSS-SECTIONS\n",
    "Sigma_SV_Neutron = (k_SV/M_Neutron)**2\n",
    "Sigma_SV_Proton = (k_SV/M_Proton)**2\n",
    "Sigma_SV_Lambda = (k_SV/M_Lambda)**2\n",
    "Sigma_SV_ChargedKaon = (k_SV/M_ChargedKaon)**2\n",
    "Sigma_SV_ChargedPion = (k_SV/M_ChargedPion)**2\n",
    "Sigma_SV_NeutralKaon = (k_SV/M_NeutralKaon)**2\n",
    "Sigma_SV_NeutralPion = (k_SV/M_NeutralPion)**2\n",
    "\n",
    "# STRANGENESS CONSERVING CROSS-SECTIONS\n",
    "Sigma_SC_Neutron = (k_SC/M_Neutron)**2\n",
    "Sigma_SC_Proton = (k_SC/M_Proton)**2\n",
    "Sigma_SC_Lambda = (k_SC/M_Lambda)**2\n",
    "Sigma_SC_ChargedKaon = (k_SC/M_ChargedKaon)**2\n",
    "Sigma_SC_ChargedPion = (k_SC/M_ChargedPion)**2\n",
    "Sigma_SC_NeutralKaon = (k_SC/M_NeutralKaon)**2\n",
    "Sigma_SC_NeutralPion = (k_SC/M_NeutralPion)**2\n",
    "\n",
    "# POINT CROSS-SECTION INTO DI-HIGGS\n",
    "Sigma_Point_NeutralPion = ((Lambda**2)/(128*np.pi))*(1/E_Pion**2)\n",
    "Sigma_Point_NeutralKaon = ((Lambda**2)/(128*np.pi))*(1/E_Kaon**2)"
   ]
  },
  {
   "cell_type": "code",
   "execution_count": 103,
   "id": "7d2e7ef9-facd-451a-8a53-26dd3c43e3b3",
   "metadata": {},
   "outputs": [
    {
     "name": "stderr",
     "output_type": "stream",
     "text": [
      "<>:22: SyntaxWarning: invalid escape sequence '\\s'\n",
      "<>:22: SyntaxWarning: invalid escape sequence '\\s'\n",
      "C:\\Users\\press\\AppData\\Local\\Temp\\ipykernel_15580\\2410303745.py:22: SyntaxWarning: invalid escape sequence '\\s'\n",
      "  plt.title('Log plot of Y(x) for different $\\sigma$ values')\n"
     ]
    },
    {
     "data": {
      "image/png": "[encoded data removed]",
      "text/plain": [
       "<Figure size 800x600 with 1 Axes>"
      ]
     },
     "metadata": {},
     "output_type": "display_data"
    }
   ],
   "source": [
    "Y0 = [1e25]  \n",
    "x_min = 3  \n",
    "x_max = 10 \n",
    "x_span = (x_min, x_max)\n",
    "x_eval = np.linspace(x_min, x_max, 500000)\n",
    "\n",
    "sigma_values = [Sigma_Point_NeutralKaon, Sigma_Point_NeutralPion]\n",
    "\n",
    "# Plotting the results for different sigma values\n",
    "plt.figure(figsize=(8, 6))\n",
    "\n",
    "for sigma_value in sigma_values:\n",
    "    sigma_name = get_variable_name(sigma_value, globals())\n",
    "    sol = solve_ivp(lambda x, Y: dYdx(x, Y, sigma_value), x_span, Y0, t_eval=x_eval)\n",
    "    # Plot the current sigma_value\n",
    "    plt.plot(sol.t, sol.y[0], label=f'{sigma_name} = {sigma_value}')\n",
    "\n",
    "plt.yscale('log')  \n",
    "#plt.xscale('log')  \n",
    "plt.xlabel('x = m/T')\n",
    "plt.ylabel('log(Y/Y(x=0))')\n",
    "plt.title('Log plot of Y(x) for different $\\sigma$ values')\n",
    "plt.legend()\n",
    "plt.grid(True)\n",
    "#plt.savefig('DifferentSigmaSValues.png', facecolor='w')\n",
    "\n",
    "plt.show()"
   ]
  },
  {
   "cell_type": "code",
   "execution_count": null,
   "id": "b68769f5-d38e-45bf-93c8-30175aab6cec",
   "metadata": {
    "panel-layout": {
     "height": 874,
     "visible": true,
     "width": 100
    }
   },
   "outputs": [],
   "source": [
    "#Extra cell with dummy sigmas\n",
    "\"\"\"\n",
    "# Initial conditions and x range\n",
    "Y0 = [1.0]  \n",
    "x_min = 3  \n",
    "x_max = 3e3 \n",
    "x_span = (x_min, x_max)\n",
    "x_eval = np.linspace(x_min, x_max, 50000)\n",
    "\n",
    "# Values for sigma(s - 4m^2)\n",
    "sigma_values = [1e1, 1e2, 1e3]\n",
    "\n",
    "# Plotting the results for different sigma values\n",
    "plt.figure(figsize=(8, 6))\n",
    "\n",
    "for sigma_value in sigma_values:\n",
    "    sol = solve_ivp(lambda x, Y: dYdx(x, Y, sigma_value), x_span, Y0, t_eval=x_eval)\n",
    "    \n",
    "    # Plot the current sigma_value\n",
    "    plt.plot(sol.t, sol.y[0], label=f'sigma = {sigma_value}')\n",
    "\n",
    "plt.yscale('log')  \n",
    "plt.xscale('log')  \n",
    "plt.xlabel('x = m/T')\n",
    "plt.ylabel('log(Y/Y(x=0))')\n",
    "plt.title('Log plot of Y(x) for different $\\sigma$ values')\n",
    "plt.legend()\n",
    "plt.grid(True)\n",
    "#plt.savefig('DifferentSigmaSValues.png', facecolor='w')\n",
    "\n",
    "plt.show()\n",
    "\"\"\""
   ]
  }
 ],
 "metadata": {
  "kernelspec": {
   "display_name": "Python [conda env:base] *",
   "language": "python",
   "name": "conda-base-py"
  },
  "language_info": {
   "codemirror_mode": {
    "name": "ipython",
    "version": 3
   },
   "file_extension": ".py",
   "mimetype": "text/x-python",
   "name": "python",
   "nbconvert_exporter": "python",
   "pygments_lexer": "ipython3",
   "version": "3.12.7"
  },
  "panel-cell-order": [
   "f82acc07-fb88-4dfe-8dd7-9357be9b0a09",
   "3c549cf8-477c-40cd-82f6-1896e486cb1a"
  ]
 },
 "nbformat": 4,
 "nbformat_minor": 5
}
