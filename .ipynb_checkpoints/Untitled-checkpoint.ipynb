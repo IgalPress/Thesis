{
 "cells": [
  {
   "cell_type": "code",
   "execution_count": 1,
   "id": "feb093b3-0351-45d2-9844-0f679fc0a86a",
   "metadata": {},
   "outputs": [
    {
     "name": "stderr",
     "output_type": "stream",
     "text": [
      "C:\\Users\\press\\anaconda3\\lib\\site-packages\\scipy\\__init__.py:146: UserWarning: A NumPy version >=1.16.5 and <1.23.0 is required for this version of SciPy (detected version 1.26.4\n",
      "  warnings.warn(f\"A NumPy version >={np_minversion} and <{np_maxversion}\"\n"
     ]
    }
   ],
   "source": [
    "import numpy as np\n",
    "import matplotlib.pyplot as plt\n",
    "from scipy.integrate import odeint\n",
    "from scipy.special import k1,kn\n",
    "from scipy.integrate import quad\n"
   ]
  },
  {
   "cell_type": "code",
   "execution_count": 2,
   "id": "33842982-bcaa-4076-aacc-32c4eb137290",
   "metadata": {},
   "outputs": [],
   "source": [
    "## Physical Constants ##\n",
    "alpha= 1/137\n",
    "\n",
    "m_e = 0.511 # MeV\n",
    "m_eKg = 9.10938e-31 #Kg\n",
    "mu_r = 206.768 # m_muon / m_e\n",
    "tau_r = 3477.23 # m_tau / m_e\n",
    "m_mu = mu_r*m_e # MeV\n",
    "m_muKg = mu_r*m_eKg\n",
    "m_tau = tau_r*m_e # MeV\n",
    "m_tauKg = tau_r*m_eKg\n",
    "\n",
    "H_0 = 1e-39 # MeV\n",
    "M_PL = 2.4e21 # MeV\n",
    "h = 0.67\n",
    "g_star = 10\n",
    "g = 2 #Degrees of Freedom\n",
    "\n",
    "c1 = np.sqrt(4*np.pi**3/45)\n",
    "c2 = 2*np.pi**2/45\n",
    "\n",
    "s0 = 2891.2 # entropy density today cm^-3\n",
    "inv_cm = 1.23981e-4*1e-6 # MeV per cm^-1\n",
    "s0 *= (inv_cm)**3\n",
    "\n",
    "sigma_0 = 1\n",
    "\n",
    "n = 3\n",
    "\n",
    "rho_crit = 3*H_0**2*M_PL**2\n",
    "rho_DM = (.1/h**2)*rho_crit"
   ]
  },
  {
   "cell_type": "code",
   "execution_count": 3,
   "id": "7c3a81db-c09b-417f-b37f-f1277f068c58",
   "metadata": {},
   "outputs": [],
   "source": [
    "## Variables from the bottom of my thesis notes ##\n",
    "## Change these as necessary ##\n",
    "Temp = 1\n",
    "x_e = m_e/Temp\n",
    "x_eKg = m_eKg/Temp\n",
    "\n",
    "x_mu = m_mu/Temp\n",
    "x_muKg = m_muKg/Temp\n",
    "\n",
    "x_tau = m_tau/Temp\n",
    "x_tauKg = m_tauKg/Temp\n",
    "\n",
    "V1 = np.array([1, 0, 0])\n",
    "V2 = np.array([1, 0, 0])\n",
    "c = np.array([299792458.0, 299792458, 299792458])\n",
    "\n",
    "Zeta3 = 1.2020569032\n",
    "\n",
    "g_star_s = (45*s0)/(2*(np.pi**2)*(Temp**3)) #Formula gotten from rearranging eqn 3.72 in the textbook"
   ]
  },
  {
   "cell_type": "code",
   "execution_count": 4,
   "id": "7d38d2c1-9a43-4e54-9b65-30aa6a75395a",
   "metadata": {},
   "outputs": [],
   "source": [
    "# Thermally averaged annihilation cross-section\n",
    "#def sigmaV(sigma_0, x, n = None):\n",
    "#    return sigma_0*(x**(-n))\n",
    "\n",
    "# entropy density, s\n",
    "def entropy(x, m):\n",
    "    return c2*g_star*(m/x)**3\n",
    "\n",
    "# Hubble Constant, H\n",
    "def H(x, m):\n",
    "    return c1*np.sqrt(g_star)*(m/x)**2/M_PL"
   ]
  },
  {
   "cell_type": "code",
   "execution_count": 20,
   "id": "12f1c91b-16dd-41ff-8441-8a16883d436e",
   "metadata": {},
   "outputs": [],
   "source": [
    "def ParticleMomentum(m,v, Magnitude = None):\n",
    "    if Magnitude == True:\n",
    "        p = m*np.sqrt(np.dot(v,v))\n",
    "    else:\n",
    "        p = m*v\n",
    "    return p\n",
    "\n",
    "def LorentzGammaFactor(v):\n",
    "    Ratio = np.sqrt(np.dot(v/c,v/c)) #Takes the magnitude of your velocities\n",
    "    InnerPart = 1 - Ratio\n",
    "    return 1/np.sqrt(InnerPart)\n",
    "\n",
    "def ParticleEnergy(m,v):\n",
    "    #E = gamma*mc^2\n",
    "    RestEnergy = m*299792458**2 #m0c^2\n",
    "    LorentzGamma = LorentzGammaFactor(v) #gamma \n",
    "    return RestEnergy*LorentzGamma\n",
    "\n",
    "def STilde(m1,m2,v1,v2):\n",
    "    #STilde = 2m^2 + 2E1E2 - 2p1 dot p2\n",
    "    FirstTerm = 2*(m1**2)\n",
    "    SecondTerm = 2*ParticleEnergy(m1,v1)*ParticleEnergy(m2,v2)\n",
    "    ThirdTerm = 2*np.dot(ParticleMomentum(m1,v1),ParticleMomentum(m2,v2))\n",
    "    return FirstTerm + SecondTerm + ThirdTerm\n",
    "\n",
    "#kn(n,x,out = None) gives the bessel function K_alpha(x)\n",
    "\n",
    "def sigma_s(s):\n",
    "    return 1.0  # Placeholder for cross-section, modify as needed\n",
    "\n",
    "# Integrand definition\n",
    "def integrand(s, m1, m2, v1, v2, Temp):\n",
    "    term1 = np.sqrt(s)\n",
    "    term2 = k1(np.sqrt(s) / Temp)\n",
    "    sigma_value = sigma_s(s - 4 * m_e**2)  \n",
    "    return sigma_value * term1 * term2\n",
    "\n",
    "# Integration limits\n",
    "lower_limit = 4 * m_e**2  # Lower limit of the integral (e.g., for electron mass)\n",
    "upper_limit = np.inf  # Upper limit of integration is infinity\n",
    "\n",
    "# Numerical integration using quad\n",
    "result, error = quad(integrand, lower_limit, upper_limit, args=(m_e, m_mu, V1, V2, Temp))\n",
    "\n",
    "# Prefactor (from original expression)\n",
    "prefactor = 1 / (8 * m_e**4 * Temp * kn(2, m_e / Temp)**2)\n",
    "SigmaV = prefactor * result\n",
    "\n",
    "#print(f\"Result of the integral: {SigmaV}, with error estimate: {error}\")"
   ]
  },
  {
   "cell_type": "code",
   "execution_count": 21,
   "id": "3cdb8a1e-4dc9-4fec-b087-32df1087ee04",
   "metadata": {},
   "outputs": [
    {
     "name": "stdout",
     "output_type": "stream",
     "text": [
      "0.11363318692236817\n"
     ]
    }
   ],
   "source": [
    "print(SigmaV)"
   ]
  },
  {
   "cell_type": "code",
   "execution_count": 15,
   "id": "1658541c-fc40-4d2c-ae95-86b323ee98d5",
   "metadata": {},
   "outputs": [],
   "source": [
    "#Lambda for use in dY/dx\n",
    "def Lambda(x, m):\n",
    "    return (SigmaV*entropy(x,m))/(H(x,m))\n",
    "\n",
    "def Y_EQ(x):\n",
    "    return 0.145*(g/g_star_s)*(x**(3/2))*np.exp(-x)\n",
    "\n",
    "def Y(x):\n",
    "    return Y_EQ(x) - 1e+24\n",
    "\n",
    "def dYdx(x,m):\n",
    "    return -Lambda(x,m)*(x**(-n-2))*((Y(x)**2)-(Y_EQ(x)**2))"
   ]
  },
  {
   "cell_type": "code",
   "execution_count": 16,
   "id": "9939bed5-f8f6-4571-988c-210a988fd227",
   "metadata": {},
   "outputs": [
    {
     "name": "stdout",
     "output_type": "stream",
     "text": [
      "2.2833449804217294e-15\n",
      "28.700898930410748\n",
      "4.0591616372527514e+24\n",
      "5.059161637252751e+24\n",
      "-9.118323274505502e+48\n"
     ]
    }
   ],
   "source": [
    "#print(Lambda(x_e,m_e))\n",
    "#print(x_e**(-n-2))\n",
    "#print(Y(x_e))\n",
    "#print(Y_EQ(x_e))\n",
    "#print(Y(x_e)**2 - Y_EQ(x_e)**2)\n",
    "#print(dYdx(x_e,m_e))"
   ]
  },
  {
   "cell_type": "code",
   "execution_count": 28,
   "id": "92d31119-52ca-4455-a5dc-761d07536ad0",
   "metadata": {},
   "outputs": [],
   "source": [
    "def NumberDensity(m):\n",
    "    return g*((m*Temp/(2*np.pi))**(3/2))*np.exp(-m/Temp)\n",
    "\n",
    "def dYdxTry2(x,m):\n",
    "    return SigmaV*NumberDensity(m) / (x * entropy(x, m) * H(x, m))"
   ]
  },
  {
   "cell_type": "code",
   "execution_count": 32,
   "id": "7182c81b-fe7b-4917-a3cc-9ed1b638b817",
   "metadata": {},
   "outputs": [
    {
     "data": {
      "text/plain": [
       "6.44906592505954e+17"
      ]
     },
     "execution_count": 32,
     "metadata": {},
     "output_type": "execute_result"
    }
   ],
   "source": [
    "dYdxTry2(x_e,m_e)"
   ]
  },
  {
   "cell_type": "code",
   "execution_count": 18,
   "id": "518c0047-5805-47e4-8803-47de00770f98",
   "metadata": {},
   "outputs": [
    {
     "name": "stdout",
     "output_type": "stream",
     "text": [
      "7.493314447294681e+24\n",
      "[0.13345229 0.1851991  0.23694591 0.28869272 0.34043952 0.39218633\n",
      " 0.44393314 0.49567995 0.54742676 0.59917356 0.65092037 0.70266718\n",
      " 0.75441399 0.80616079 0.8579076  0.90965441 0.96140122 1.01314803\n",
      " 1.06489483 1.11664164 1.16838845 1.22013526 1.27188206 1.32362887\n",
      " 1.37537568 1.42712249 1.47886929 1.5306161  1.58236291 1.63410972\n",
      " 1.68585653 1.73760333 1.78935014 1.84109695 1.89284376 1.94459056\n",
      " 1.99633737 2.04808418 2.09983099 2.1515778  2.2033246  2.25507141\n",
      " 2.30681822 2.35856503 2.41031183 2.46205864 2.51380545 2.56555226\n",
      " 2.61729907 2.66904587]\n"
     ]
    }
   ],
   "source": [
    "Y_Arr = np.linspace(1e24, 20e24)\n",
    "Y_ArrDiv = Y_Arr/(Y(1))\n",
    "x = np.linspace(1, 20)\n",
    "Logged = np.log10(Y_ArrDiv)\n",
    "print(Y(1))\n",
    "print(Y_ArrDiv)"
   ]
  },
  {
   "cell_type": "code",
   "execution_count": 19,
   "id": "1f0cb93c-a45e-4c50-b216-88314c513b19",
   "metadata": {},
   "outputs": [
    {
     "data": {
      "text/plain": [
       "[<matplotlib.lines.Line2D at 0x16075725610>]"
      ]
     },
     "execution_count": 19,
     "metadata": {},
     "output_type": "execute_result"
    },
    {
     "data": {
      "image/png": "[encoded data removed]",
      "text/plain": [
       "<Figure size 432x288 with 1 Axes>"
      ]
     },
     "metadata": {
      "needs_background": "light"
     },
     "output_type": "display_data"
    }
   ],
   "source": [
    "plt.plot(x,Logged)"
   ]
  },
  {
   "cell_type": "code",
   "execution_count": null,
   "id": "0a35f460-bebb-4c21-bc74-c9f226ab993a",
   "metadata": {},
   "outputs": [],
   "source": []
  }
 ],
 "metadata": {
  "kernelspec": {
   "display_name": "Python 3 (ipykernel)",
   "language": "python",
   "name": "python3"
  },
  "language_info": {
   "codemirror_mode": {
    "name": "ipython",
    "version": 3
   },
   "file_extension": ".py",
   "mimetype": "text/x-python",
   "name": "python",
   "nbconvert_exporter": "python",
   "pygments_lexer": "ipython3",
   "version": "3.9.7"
  }
 },
 "nbformat": 4,
 "nbformat_minor": 5
}
